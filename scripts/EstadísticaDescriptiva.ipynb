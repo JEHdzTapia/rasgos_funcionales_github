{
 "cells": [
  {
   "cell_type": "markdown",
   "metadata": {},
   "source": [
    "## Sesión Estadística descriptiva\n",
    "### Julieta Rosell, Alberto Echeverría, Emilio Petrone, Mark Olson\n",
    "### 8 de octubre de 2020"
   ]
  },
  {
   "cell_type": "markdown",
   "metadata": {},
   "source": [
    "Durante esta sesión comenzaremos a trabajar los datos que hemos estado colectando. ¡Qué emoción! Los objetivos de la sesión son: 1. Revisar la presencia de outliers en nuestra base 2. Recordar las estadísticas más usadas para describir datos 3. Comenzaremos a discutir lo que incluiremos como estadística descriptiva en nuestro escrito colectivo 4. Comenzaremos a construir nuestro script colaborativo\n",
    "\n",
    "1. Crea un proyecto de RStudio para la sesión de hoy que será útil para sesiones subsecuentes.\n",
    "\n",
    "2. Baja los datos de la base compartida en GoogleDocs para poder abrirlos en Excel. Guárdalos con la extensión .csv directamente pues usaremos read.csv. ¿Qué otras funciones conoces para importar datos en R?\n",
    "\n",
    "3. Después de entender la estructura general de la base que abriste en Excel, importa los datos a R."
   ]
  },
  {
   "cell_type": "code",
   "execution_count": 8,
   "metadata": {},
   "outputs": [],
   "source": [
    "datos2 <- read.csv(\"../data/2020_10_08_Base.csv\")\n"
   ]
  },
  {
   "cell_type": "markdown",
   "metadata": {},
   "source": [
    "4. Pide a R que te muestre el tipo de objeto y su estructura. Elimina las variables que no vamos a necesitar para el análisis"
   ]
  },
  {
   "cell_type": "code",
   "execution_count": 3,
   "metadata": {},
   "outputs": [
    {
     "data": {
      "text/html": [
       "'data.frame'"
      ],
      "text/latex": [
       "'data.frame'"
      ],
      "text/markdown": [
       "'data.frame'"
      ],
      "text/plain": [
       "[1] \"data.frame\""
      ]
     },
     "metadata": {},
     "output_type": "display_data"
    }
   ],
   "source": [
    "class(datos2)"
   ]
  },
  {
   "cell_type": "code",
   "execution_count": 4,
   "metadata": {},
   "outputs": [
    {
     "name": "stdout",
     "output_type": "stream",
     "text": [
      "'data.frame':\t621 obs. of  22 variables:\n",
      " $ order                                            : Factor w/ 56 levels \"   \",\"Alismatales\",..: 2 2 3 3 3 3 3 3 3 3 ...\n",
      " $ family                                           : Factor w/ 175 levels \"Acanthaceae\",..: 17 17 18 18 18 18 106 123 131 131 ...\n",
      " $ genus                                            : Factor w/ 451 levels \"Abelia\",\"Abrophyllum\",..: 30 163 34 161 221 350 291 326 67 119 ...\n",
      " $ species                                          : Factor w/ 522 levels \"acerifolium\",..: 431 436 172 37 221 315 241 138 431 355 ...\n",
      " $ Stem.Length.Meters                               : num  1.04 0.78 14.23 11.61 10.5 ...\n",
      " $ VDbase.µm..Vessel.diameter.stem.base.micrometers.: num  23.7 66.2 126.9 77.9 44.5 ...\n",
      " $ VDtip.µm..Vessel.diameter.stem.tip.micrometers.  : num  15.1 28.6 51.5 28.7 14.2 ...\n",
      " $ Datos.crudos.sobre.hojas                         : Factor w/ 195 levels \"\",\" Hojas (8.5-13-)18-59.7 × (3.1-7.5-)9-27.2 cm, lanceoladas, elípticas, oblanceoladas, ovadas, obovadas, subcart\"| __truncated__,..: 1 1 1 1 1 9 1 84 1 1 ...\n",
      " $ Fuente.general                                   : Factor w/ 168 levels \"\",\"Estudio ecológico y silvicultural de Cordia trichotoma, Cabralea canjerana y Picrasma crenata. Su potencialidad\"| __truncated__,..: 159 1 1 160 1 34 1 33 1 1 ...\n",
      " $ Fuente.herbario                                  : Factor w/ 18 levels \"\",\"http://mediaphoto.mnhn.fr/media/1497867818175454c3LcHbfHWXyp2\",..: 1 1 1 1 1 1 1 1 1 1 ...\n",
      " $ Mín..longitud.total.de.la.hoja..cm.              : Factor w/ 36 levels \"\",\"0.3\",\"0.5\",..: 1 1 1 1 1 1 1 1 1 1 ...\n",
      " $ Máx..longitud.total.de.la.hoja..cm.              : Factor w/ 47 levels \"\",\"1\",\"1.5\",\"1.7\",..: 1 1 1 1 1 1 1 1 1 1 ...\n",
      " $ Mín..longitud.del.peciolo..cm.                   : Factor w/ 30 levels \"\",\"-\",\"0.1\",\"0.14\",..: 25 1 1 1 1 1 1 1 1 1 ...\n",
      " $ Máx..longitud.del.peciolo..cm.                   : num  8.5 NA NA 40 NA NA NA NA NA NA ...\n",
      " $ Mín..longitud.de.la.lámina..cm.                  : num  3.5 NA NA 6 NA NA NA 10 NA NA ...\n",
      " $ Máx..longitud.de.la.lámina..cm.                  : num  13 NA NA 26 NA NA NA 16 NA NA ...\n",
      " $ Mín..ancho.de.hoja.o.lámina..cm.                 : Factor w/ 40 levels \"\",\"-\",\"0.05\",..: 17 1 1 28 1 1 1 36 1 1 ...\n",
      " $ Máx..ancho.de.hoja.o.lámina..cm.                 : Factor w/ 59 levels \"\",\"-\",\"0.1\",\"0.12\",..: 41 1 1 18 1 1 1 53 1 1 ...\n",
      " $ Tipo.de.hoja..simple.compuesta.                  : Factor w/ 6 levels \"\",\"compuesta\",..: 4 1 1 4 1 2 1 4 1 1 ...\n",
      " $ Long.hoja..cm.                                   : num  NA NA NA NA NA NA NA NA NA NA ...\n",
      " $ Ancho.hoja..cm.                                  : num  NA NA NA NA NA NA NA NA NA NA ...\n",
      " $ NOTAS                                            : Factor w/ 33 levels \"\",\"????????\",..: 1 1 1 1 1 19 1 1 1 1 ...\n"
     ]
    }
   ],
   "source": [
    "str(datos2)"
   ]
  },
  {
   "cell_type": "code",
   "execution_count": 5,
   "metadata": {},
   "outputs": [
    {
     "data": {
      "text/html": [
       "<style>\n",
       ".list-inline {list-style: none; margin:0; padding: 0}\n",
       ".list-inline>li {display: inline-block}\n",
       ".list-inline>li:not(:last-child)::after {content: \"\\00b7\"; padding: 0 .5ex}\n",
       "</style>\n",
       "<ol class=list-inline><li>'order'</li><li>'family'</li><li>'genus'</li><li>'species'</li><li>'Stem.Length.Meters'</li><li>'VDbase.µm..Vessel.diameter.stem.base.micrometers.'</li><li>'VDtip.µm..Vessel.diameter.stem.tip.micrometers.'</li><li>'Datos.crudos.sobre.hojas'</li><li>'Fuente.general'</li><li>'Fuente.herbario'</li><li>'Mín..longitud.total.de.la.hoja..cm.'</li><li>'Máx..longitud.total.de.la.hoja..cm.'</li><li>'Mín..longitud.del.peciolo..cm.'</li><li>'Máx..longitud.del.peciolo..cm.'</li><li>'Mín..longitud.de.la.lámina..cm.'</li><li>'Máx..longitud.de.la.lámina..cm.'</li><li>'Mín..ancho.de.hoja.o.lámina..cm.'</li><li>'Máx..ancho.de.hoja.o.lámina..cm.'</li><li>'Tipo.de.hoja..simple.compuesta.'</li><li>'Long.hoja..cm.'</li><li>'Ancho.hoja..cm.'</li><li>'NOTAS'</li></ol>\n"
      ],
      "text/latex": [
       "\\begin{enumerate*}\n",
       "\\item 'order'\n",
       "\\item 'family'\n",
       "\\item 'genus'\n",
       "\\item 'species'\n",
       "\\item 'Stem.Length.Meters'\n",
       "\\item 'VDbase.µm..Vessel.diameter.stem.base.micrometers.'\n",
       "\\item 'VDtip.µm..Vessel.diameter.stem.tip.micrometers.'\n",
       "\\item 'Datos.crudos.sobre.hojas'\n",
       "\\item 'Fuente.general'\n",
       "\\item 'Fuente.herbario'\n",
       "\\item 'Mín..longitud.total.de.la.hoja..cm.'\n",
       "\\item 'Máx..longitud.total.de.la.hoja..cm.'\n",
       "\\item 'Mín..longitud.del.peciolo..cm.'\n",
       "\\item 'Máx..longitud.del.peciolo..cm.'\n",
       "\\item 'Mín..longitud.de.la.lámina..cm.'\n",
       "\\item 'Máx..longitud.de.la.lámina..cm.'\n",
       "\\item 'Mín..ancho.de.hoja.o.lámina..cm.'\n",
       "\\item 'Máx..ancho.de.hoja.o.lámina..cm.'\n",
       "\\item 'Tipo.de.hoja..simple.compuesta.'\n",
       "\\item 'Long.hoja..cm.'\n",
       "\\item 'Ancho.hoja..cm.'\n",
       "\\item 'NOTAS'\n",
       "\\end{enumerate*}\n"
      ],
      "text/markdown": [
       "1. 'order'\n",
       "2. 'family'\n",
       "3. 'genus'\n",
       "4. 'species'\n",
       "5. 'Stem.Length.Meters'\n",
       "6. 'VDbase.µm..Vessel.diameter.stem.base.micrometers.'\n",
       "7. 'VDtip.µm..Vessel.diameter.stem.tip.micrometers.'\n",
       "8. 'Datos.crudos.sobre.hojas'\n",
       "9. 'Fuente.general'\n",
       "10. 'Fuente.herbario'\n",
       "11. 'Mín..longitud.total.de.la.hoja..cm.'\n",
       "12. 'Máx..longitud.total.de.la.hoja..cm.'\n",
       "13. 'Mín..longitud.del.peciolo..cm.'\n",
       "14. 'Máx..longitud.del.peciolo..cm.'\n",
       "15. 'Mín..longitud.de.la.lámina..cm.'\n",
       "16. 'Máx..longitud.de.la.lámina..cm.'\n",
       "17. 'Mín..ancho.de.hoja.o.lámina..cm.'\n",
       "18. 'Máx..ancho.de.hoja.o.lámina..cm.'\n",
       "19. 'Tipo.de.hoja..simple.compuesta.'\n",
       "20. 'Long.hoja..cm.'\n",
       "21. 'Ancho.hoja..cm.'\n",
       "22. 'NOTAS'\n",
       "\n",
       "\n"
      ],
      "text/plain": [
       " [1] \"order\"                                            \n",
       " [2] \"family\"                                           \n",
       " [3] \"genus\"                                            \n",
       " [4] \"species\"                                          \n",
       " [5] \"Stem.Length.Meters\"                               \n",
       " [6] \"VDbase.µm..Vessel.diameter.stem.base.micrometers.\"\n",
       " [7] \"VDtip.µm..Vessel.diameter.stem.tip.micrometers.\"  \n",
       " [8] \"Datos.crudos.sobre.hojas\"                         \n",
       " [9] \"Fuente.general\"                                   \n",
       "[10] \"Fuente.herbario\"                                  \n",
       "[11] \"Mín..longitud.total.de.la.hoja..cm.\"              \n",
       "[12] \"Máx..longitud.total.de.la.hoja..cm.\"              \n",
       "[13] \"Mín..longitud.del.peciolo..cm.\"                   \n",
       "[14] \"Máx..longitud.del.peciolo..cm.\"                   \n",
       "[15] \"Mín..longitud.de.la.lámina..cm.\"                  \n",
       "[16] \"Máx..longitud.de.la.lámina..cm.\"                  \n",
       "[17] \"Mín..ancho.de.hoja.o.lámina..cm.\"                 \n",
       "[18] \"Máx..ancho.de.hoja.o.lámina..cm.\"                 \n",
       "[19] \"Tipo.de.hoja..simple.compuesta.\"                  \n",
       "[20] \"Long.hoja..cm.\"                                   \n",
       "[21] \"Ancho.hoja..cm.\"                                  \n",
       "[22] \"NOTAS\"                                            "
      ]
     },
     "metadata": {},
     "output_type": "display_data"
    }
   ],
   "source": [
    "names(datos2)"
   ]
  },
  {
   "cell_type": "code",
   "execution_count": 7,
   "metadata": {},
   "outputs": [
    {
     "data": {
      "text/html": [
       "<style>\n",
       ".list-inline {list-style: none; margin:0; padding: 0}\n",
       ".list-inline>li {display: inline-block}\n",
       ".list-inline>li:not(:last-child)::after {content: \"\\00b7\"; padding: 0 .5ex}\n",
       "</style>\n",
       "<ol class=list-inline><li>'order'</li><li>'family'</li><li>'genus'</li><li>'species'</li><li>'Stem.Length.Meters'</li><li>'VDbase.µm..Vessel.diameter.stem.base.micrometers.'</li><li>'VDtip.µm..Vessel.diameter.stem.tip.micrometers.'</li><li>'Mín..longitud.total.de.la.hoja..cm.'</li><li>'Máx..longitud.total.de.la.hoja..cm.'</li><li>'Mín..longitud.del.peciolo..cm.'</li><li>'Máx..longitud.del.peciolo..cm.'</li><li>'Mín..longitud.de.la.lámina..cm.'</li><li>'Máx..longitud.de.la.lámina..cm.'</li><li>'Mín..ancho.de.hoja.o.lámina..cm.'</li><li>'Máx..ancho.de.hoja.o.lámina..cm.'</li><li>'Tipo.de.hoja..simple.compuesta.'</li></ol>\n"
      ],
      "text/latex": [
       "\\begin{enumerate*}\n",
       "\\item 'order'\n",
       "\\item 'family'\n",
       "\\item 'genus'\n",
       "\\item 'species'\n",
       "\\item 'Stem.Length.Meters'\n",
       "\\item 'VDbase.µm..Vessel.diameter.stem.base.micrometers.'\n",
       "\\item 'VDtip.µm..Vessel.diameter.stem.tip.micrometers.'\n",
       "\\item 'Mín..longitud.total.de.la.hoja..cm.'\n",
       "\\item 'Máx..longitud.total.de.la.hoja..cm.'\n",
       "\\item 'Mín..longitud.del.peciolo..cm.'\n",
       "\\item 'Máx..longitud.del.peciolo..cm.'\n",
       "\\item 'Mín..longitud.de.la.lámina..cm.'\n",
       "\\item 'Máx..longitud.de.la.lámina..cm.'\n",
       "\\item 'Mín..ancho.de.hoja.o.lámina..cm.'\n",
       "\\item 'Máx..ancho.de.hoja.o.lámina..cm.'\n",
       "\\item 'Tipo.de.hoja..simple.compuesta.'\n",
       "\\end{enumerate*}\n"
      ],
      "text/markdown": [
       "1. 'order'\n",
       "2. 'family'\n",
       "3. 'genus'\n",
       "4. 'species'\n",
       "5. 'Stem.Length.Meters'\n",
       "6. 'VDbase.µm..Vessel.diameter.stem.base.micrometers.'\n",
       "7. 'VDtip.µm..Vessel.diameter.stem.tip.micrometers.'\n",
       "8. 'Mín..longitud.total.de.la.hoja..cm.'\n",
       "9. 'Máx..longitud.total.de.la.hoja..cm.'\n",
       "10. 'Mín..longitud.del.peciolo..cm.'\n",
       "11. 'Máx..longitud.del.peciolo..cm.'\n",
       "12. 'Mín..longitud.de.la.lámina..cm.'\n",
       "13. 'Máx..longitud.de.la.lámina..cm.'\n",
       "14. 'Mín..ancho.de.hoja.o.lámina..cm.'\n",
       "15. 'Máx..ancho.de.hoja.o.lámina..cm.'\n",
       "16. 'Tipo.de.hoja..simple.compuesta.'\n",
       "\n",
       "\n"
      ],
      "text/plain": [
       " [1] \"order\"                                            \n",
       " [2] \"family\"                                           \n",
       " [3] \"genus\"                                            \n",
       " [4] \"species\"                                          \n",
       " [5] \"Stem.Length.Meters\"                               \n",
       " [6] \"VDbase.µm..Vessel.diameter.stem.base.micrometers.\"\n",
       " [7] \"VDtip.µm..Vessel.diameter.stem.tip.micrometers.\"  \n",
       " [8] \"Mín..longitud.total.de.la.hoja..cm.\"              \n",
       " [9] \"Máx..longitud.total.de.la.hoja..cm.\"              \n",
       "[10] \"Mín..longitud.del.peciolo..cm.\"                   \n",
       "[11] \"Máx..longitud.del.peciolo..cm.\"                   \n",
       "[12] \"Mín..longitud.de.la.lámina..cm.\"                  \n",
       "[13] \"Máx..longitud.de.la.lámina..cm.\"                  \n",
       "[14] \"Mín..ancho.de.hoja.o.lámina..cm.\"                 \n",
       "[15] \"Máx..ancho.de.hoja.o.lámina..cm.\"                 \n",
       "[16] \"Tipo.de.hoja..simple.compuesta.\"                  "
      ]
     },
     "metadata": {},
     "output_type": "display_data"
    }
   ],
   "source": [
    "datos <- datos2[,c(1:7,11:19)]\n",
    "names(datos)"
   ]
  },
  {
   "cell_type": "markdown",
   "metadata": {},
   "source": [
    "5. Nuestros nombres son espantosos. Cambiemos los nombres siguiendo un estándar de buenas prácticas en R. Hay muchos sitios para aprender buenas prácticas en línea. [Aquí uno de ellos](http://www.mlearningacademy.com/2018/03/29/r-names/#:~:text=The%20preferred%20form%20for%20variable,(FunctionName)%20should%20be%20used.) ¿Qué dice sobre nombres de variables?"
   ]
  },
  {
   "cell_type": "code",
   "execution_count": 10,
   "metadata": {},
   "outputs": [
    {
     "data": {
      "text/html": [
       "<style>\n",
       ".list-inline {list-style: none; margin:0; padding: 0}\n",
       ".list-inline>li {display: inline-block}\n",
       ".list-inline>li:not(:last-child)::after {content: \"\\00b7\"; padding: 0 .5ex}\n",
       "</style>\n",
       "<ol class=list-inline><li>'order'</li><li>'family'</li><li>'genus'</li><li>'species.epithet'</li><li>'stem.length.m'</li><li>'VD.base.um'</li><li>'VDtip.um'</li><li>'min.long.hoja'</li><li>'max.long.hoja'</li><li>'min.long.peciolo'</li><li>'max.long.peciolo'</li><li>'min.long.lamina'</li><li>'max.long.lamina'</li><li>'min.ancho.hoja'</li><li>'max.ancho.hoja'</li><li>'tipo.hoja'</li></ol>\n"
      ],
      "text/latex": [
       "\\begin{enumerate*}\n",
       "\\item 'order'\n",
       "\\item 'family'\n",
       "\\item 'genus'\n",
       "\\item 'species.epithet'\n",
       "\\item 'stem.length.m'\n",
       "\\item 'VD.base.um'\n",
       "\\item 'VDtip.um'\n",
       "\\item 'min.long.hoja'\n",
       "\\item 'max.long.hoja'\n",
       "\\item 'min.long.peciolo'\n",
       "\\item 'max.long.peciolo'\n",
       "\\item 'min.long.lamina'\n",
       "\\item 'max.long.lamina'\n",
       "\\item 'min.ancho.hoja'\n",
       "\\item 'max.ancho.hoja'\n",
       "\\item 'tipo.hoja'\n",
       "\\end{enumerate*}\n"
      ],
      "text/markdown": [
       "1. 'order'\n",
       "2. 'family'\n",
       "3. 'genus'\n",
       "4. 'species.epithet'\n",
       "5. 'stem.length.m'\n",
       "6. 'VD.base.um'\n",
       "7. 'VDtip.um'\n",
       "8. 'min.long.hoja'\n",
       "9. 'max.long.hoja'\n",
       "10. 'min.long.peciolo'\n",
       "11. 'max.long.peciolo'\n",
       "12. 'min.long.lamina'\n",
       "13. 'max.long.lamina'\n",
       "14. 'min.ancho.hoja'\n",
       "15. 'max.ancho.hoja'\n",
       "16. 'tipo.hoja'\n",
       "\n",
       "\n"
      ],
      "text/plain": [
       " [1] \"order\"            \"family\"           \"genus\"            \"species.epithet\" \n",
       " [5] \"stem.length.m\"    \"VD.base.um\"       \"VDtip.um\"         \"min.long.hoja\"   \n",
       " [9] \"max.long.hoja\"    \"min.long.peciolo\" \"max.long.peciolo\" \"min.long.lamina\" \n",
       "[13] \"max.long.lamina\"  \"min.ancho.hoja\"   \"max.ancho.hoja\"   \"tipo.hoja\"       "
      ]
     },
     "metadata": {},
     "output_type": "display_data"
    }
   ],
   "source": [
    "names(datos) <- c(\"order\", \"family\", \"genus\", \"species.epithet\", \"stem.length.m\",\n",
    "                  \"VD.base.um\", \"VDtip.um\", \"min.long.hoja\", \"max.long.hoja\", \"min.long.peciolo\",\n",
    "                  \"max.long.peciolo\", \"min.long.lamina\", \"max.long.lamina\", \n",
    "                  \"min.ancho.hoja\", \"max.ancho.hoja\", \"tipo.hoja\")\n",
    "names(datos)"
   ]
  },
  {
   "cell_type": "markdown",
   "metadata": {},
   "source": [
    "6. Pide de nuevo a R que te muestre la estructura de nuestros datos. ¿Qué notamos como problemas?\n"
   ]
  },
  {
   "cell_type": "code",
   "execution_count": 12,
   "metadata": {},
   "outputs": [
    {
     "name": "stdout",
     "output_type": "stream",
     "text": [
      "'data.frame':\t621 obs. of  16 variables:\n",
      " $ order           : Factor w/ 56 levels \"   \",\"Alismatales\",..: 2 2 3 3 3 3 3 3 3 3 ...\n",
      " $ family          : Factor w/ 175 levels \"Acanthaceae\",..: 17 17 18 18 18 18 106 123 131 131 ...\n",
      " $ genus           : Factor w/ 451 levels \"Abelia\",\"Abrophyllum\",..: 30 163 34 161 221 350 291 326 67 119 ...\n",
      " $ species.epithet : Factor w/ 522 levels \"acerifolium\",..: 431 436 172 37 221 315 241 138 431 355 ...\n",
      " $ stem.length.m   : num  1.04 0.78 14.23 11.61 10.5 ...\n",
      " $ VD.base.um      : num  23.7 66.2 126.9 77.9 44.5 ...\n",
      " $ VDtip.um        : num  15.1 28.6 51.5 28.7 14.2 ...\n",
      " $ min.long.hoja   : Factor w/ 36 levels \"\",\"0.3\",\"0.5\",..: 1 1 1 1 1 1 1 1 1 1 ...\n",
      " $ max.long.hoja   : Factor w/ 47 levels \"\",\"1\",\"1.5\",\"1.7\",..: 1 1 1 1 1 1 1 1 1 1 ...\n",
      " $ min.long.peciolo: Factor w/ 30 levels \"\",\"-\",\"0.1\",\"0.14\",..: 25 1 1 1 1 1 1 1 1 1 ...\n",
      " $ max.long.peciolo: num  8.5 NA NA 40 NA NA NA NA NA NA ...\n",
      " $ min.long.lamina : num  3.5 NA NA 6 NA NA NA 10 NA NA ...\n",
      " $ max.long.lamina : num  13 NA NA 26 NA NA NA 16 NA NA ...\n",
      " $ min.ancho.hoja  : Factor w/ 40 levels \"\",\"-\",\"0.05\",..: 17 1 1 28 1 1 1 36 1 1 ...\n",
      " $ max.ancho.hoja  : Factor w/ 59 levels \"\",\"-\",\"0.1\",\"0.12\",..: 41 1 1 18 1 1 1 53 1 1 ...\n",
      " $ tipo.hoja       : Factor w/ 6 levels \"\",\"compuesta\",..: 4 1 1 4 1 2 1 4 1 1 ...\n"
     ]
    }
   ],
   "source": [
    "str(datos)"
   ]
  },
  {
   "cell_type": "markdown",
   "metadata": {},
   "source": [
    "7. Pide a R que te muestre la dimensión del objeto con los datos. También pídele que te muestre los primeros y los últimos datos"
   ]
  },
  {
   "cell_type": "code",
   "execution_count": 14,
   "metadata": {},
   "outputs": [
    {
     "data": {
      "text/html": [
       "<style>\n",
       ".list-inline {list-style: none; margin:0; padding: 0}\n",
       ".list-inline>li {display: inline-block}\n",
       ".list-inline>li:not(:last-child)::after {content: \"\\00b7\"; padding: 0 .5ex}\n",
       "</style>\n",
       "<ol class=list-inline><li>621</li><li>16</li></ol>\n"
      ],
      "text/latex": [
       "\\begin{enumerate*}\n",
       "\\item 621\n",
       "\\item 16\n",
       "\\end{enumerate*}\n"
      ],
      "text/markdown": [
       "1. 621\n",
       "2. 16\n",
       "\n",
       "\n"
      ],
      "text/plain": [
       "[1] 621  16"
      ]
     },
     "metadata": {},
     "output_type": "display_data"
    }
   ],
   "source": [
    "dim(datos)\n"
   ]
  },
  {
   "cell_type": "code",
   "execution_count": 15,
   "metadata": {},
   "outputs": [
    {
     "data": {
      "text/html": [
       "<table>\n",
       "<caption>A data.frame: 6 × 16</caption>\n",
       "<thead>\n",
       "\t<tr><th></th><th scope=col>order</th><th scope=col>family</th><th scope=col>genus</th><th scope=col>species.epithet</th><th scope=col>stem.length.m</th><th scope=col>VD.base.um</th><th scope=col>VDtip.um</th><th scope=col>min.long.hoja</th><th scope=col>max.long.hoja</th><th scope=col>min.long.peciolo</th><th scope=col>max.long.peciolo</th><th scope=col>min.long.lamina</th><th scope=col>max.long.lamina</th><th scope=col>min.ancho.hoja</th><th scope=col>max.ancho.hoja</th><th scope=col>tipo.hoja</th></tr>\n",
       "\t<tr><th></th><th scope=col>&lt;fct&gt;</th><th scope=col>&lt;fct&gt;</th><th scope=col>&lt;fct&gt;</th><th scope=col>&lt;fct&gt;</th><th scope=col>&lt;dbl&gt;</th><th scope=col>&lt;dbl&gt;</th><th scope=col>&lt;dbl&gt;</th><th scope=col>&lt;fct&gt;</th><th scope=col>&lt;fct&gt;</th><th scope=col>&lt;fct&gt;</th><th scope=col>&lt;dbl&gt;</th><th scope=col>&lt;dbl&gt;</th><th scope=col>&lt;dbl&gt;</th><th scope=col>&lt;fct&gt;</th><th scope=col>&lt;fct&gt;</th><th scope=col>&lt;fct&gt;</th></tr>\n",
       "</thead>\n",
       "<tbody>\n",
       "\t<tr><th scope=row>1</th><td>Alismatales</td><td>Araceae   </td><td>Anthurium    </td><td>scandens</td><td> 1.04</td><td> 23.69</td><td>15.11</td><td></td><td></td><td>2</td><td> 8.5</td><td>3.5</td><td>13</td><td>1.5</td><td>5 </td><td>simple   </td></tr>\n",
       "\t<tr><th scope=row>2</th><td>Alismatales</td><td>Araceae   </td><td>Dieffenbachia</td><td>seguine </td><td> 0.78</td><td> 66.17</td><td>28.65</td><td></td><td></td><td> </td><td>  NA</td><td> NA</td><td>NA</td><td>   </td><td>  </td><td>         </td></tr>\n",
       "\t<tr><th scope=row>3</th><td>Apiales    </td><td>Araliaceae</td><td>Aralia       </td><td>excelsa </td><td>14.23</td><td>126.92</td><td>51.50</td><td></td><td></td><td> </td><td>  NA</td><td> NA</td><td>NA</td><td>   </td><td>  </td><td>         </td></tr>\n",
       "\t<tr><th scope=row>4</th><td>Apiales    </td><td>Araliaceae</td><td>Dendropanax  </td><td>arboreus</td><td>11.61</td><td> 77.86</td><td>28.67</td><td></td><td></td><td> </td><td>40.0</td><td>6.0</td><td>26</td><td>3  </td><td>14</td><td>simple   </td></tr>\n",
       "\t<tr><th scope=row>5</th><td>Apiales    </td><td>Araliaceae</td><td>Hedera       </td><td>helix   </td><td>10.50</td><td> 44.53</td><td>14.19</td><td></td><td></td><td> </td><td>  NA</td><td> NA</td><td>NA</td><td>   </td><td>  </td><td>         </td></tr>\n",
       "\t<tr><th scope=row>6</th><td>Apiales    </td><td>Araliaceae</td><td>Polyscias    </td><td>murrayi </td><td>25.33</td><td> 92.48</td><td>30.89</td><td></td><td></td><td> </td><td>  NA</td><td> NA</td><td>NA</td><td>   </td><td>  </td><td>compuesta</td></tr>\n",
       "</tbody>\n",
       "</table>\n"
      ],
      "text/latex": [
       "A data.frame: 6 × 16\n",
       "\\begin{tabular}{r|llllllllllllllll}\n",
       "  & order & family & genus & species.epithet & stem.length.m & VD.base.um & VDtip.um & min.long.hoja & max.long.hoja & min.long.peciolo & max.long.peciolo & min.long.lamina & max.long.lamina & min.ancho.hoja & max.ancho.hoja & tipo.hoja\\\\\n",
       "  & <fct> & <fct> & <fct> & <fct> & <dbl> & <dbl> & <dbl> & <fct> & <fct> & <fct> & <dbl> & <dbl> & <dbl> & <fct> & <fct> & <fct>\\\\\n",
       "\\hline\n",
       "\t1 & Alismatales & Araceae    & Anthurium     & scandens &  1.04 &  23.69 & 15.11 &  &  & 2 &  8.5 & 3.5 & 13 & 1.5 & 5  & simple   \\\\\n",
       "\t2 & Alismatales & Araceae    & Dieffenbachia & seguine  &  0.78 &  66.17 & 28.65 &  &  &   &   NA &  NA & NA &     &    &          \\\\\n",
       "\t3 & Apiales     & Araliaceae & Aralia        & excelsa  & 14.23 & 126.92 & 51.50 &  &  &   &   NA &  NA & NA &     &    &          \\\\\n",
       "\t4 & Apiales     & Araliaceae & Dendropanax   & arboreus & 11.61 &  77.86 & 28.67 &  &  &   & 40.0 & 6.0 & 26 & 3   & 14 & simple   \\\\\n",
       "\t5 & Apiales     & Araliaceae & Hedera        & helix    & 10.50 &  44.53 & 14.19 &  &  &   &   NA &  NA & NA &     &    &          \\\\\n",
       "\t6 & Apiales     & Araliaceae & Polyscias     & murrayi  & 25.33 &  92.48 & 30.89 &  &  &   &   NA &  NA & NA &     &    & compuesta\\\\\n",
       "\\end{tabular}\n"
      ],
      "text/markdown": [
       "\n",
       "A data.frame: 6 × 16\n",
       "\n",
       "| <!--/--> | order &lt;fct&gt; | family &lt;fct&gt; | genus &lt;fct&gt; | species.epithet &lt;fct&gt; | stem.length.m &lt;dbl&gt; | VD.base.um &lt;dbl&gt; | VDtip.um &lt;dbl&gt; | min.long.hoja &lt;fct&gt; | max.long.hoja &lt;fct&gt; | min.long.peciolo &lt;fct&gt; | max.long.peciolo &lt;dbl&gt; | min.long.lamina &lt;dbl&gt; | max.long.lamina &lt;dbl&gt; | min.ancho.hoja &lt;fct&gt; | max.ancho.hoja &lt;fct&gt; | tipo.hoja &lt;fct&gt; |\n",
       "|---|---|---|---|---|---|---|---|---|---|---|---|---|---|---|---|---|\n",
       "| 1 | Alismatales | Araceae    | Anthurium     | scandens |  1.04 |  23.69 | 15.11 | <!----> | <!----> | 2 |  8.5 | 3.5 | 13 | 1.5 | 5  | simple    |\n",
       "| 2 | Alismatales | Araceae    | Dieffenbachia | seguine  |  0.78 |  66.17 | 28.65 | <!----> | <!----> | <!----> |   NA |  NA | NA | <!----> | <!----> | <!----> |\n",
       "| 3 | Apiales     | Araliaceae | Aralia        | excelsa  | 14.23 | 126.92 | 51.50 | <!----> | <!----> | <!----> |   NA |  NA | NA | <!----> | <!----> | <!----> |\n",
       "| 4 | Apiales     | Araliaceae | Dendropanax   | arboreus | 11.61 |  77.86 | 28.67 | <!----> | <!----> | <!----> | 40.0 | 6.0 | 26 | 3   | 14 | simple    |\n",
       "| 5 | Apiales     | Araliaceae | Hedera        | helix    | 10.50 |  44.53 | 14.19 | <!----> | <!----> | <!----> |   NA |  NA | NA | <!----> | <!----> | <!----> |\n",
       "| 6 | Apiales     | Araliaceae | Polyscias     | murrayi  | 25.33 |  92.48 | 30.89 | <!----> | <!----> | <!----> |   NA |  NA | NA | <!----> | <!----> | compuesta |\n",
       "\n"
      ],
      "text/plain": [
       "  order       family     genus         species.epithet stem.length.m VD.base.um\n",
       "1 Alismatales Araceae    Anthurium     scandens         1.04          23.69    \n",
       "2 Alismatales Araceae    Dieffenbachia seguine          0.78          66.17    \n",
       "3 Apiales     Araliaceae Aralia        excelsa         14.23         126.92    \n",
       "4 Apiales     Araliaceae Dendropanax   arboreus        11.61          77.86    \n",
       "5 Apiales     Araliaceae Hedera        helix           10.50          44.53    \n",
       "6 Apiales     Araliaceae Polyscias     murrayi         25.33          92.48    \n",
       "  VDtip.um min.long.hoja max.long.hoja min.long.peciolo max.long.peciolo\n",
       "1 15.11                                2                 8.5            \n",
       "2 28.65                                                   NA            \n",
       "3 51.50                                                   NA            \n",
       "4 28.67                                                 40.0            \n",
       "5 14.19                                                   NA            \n",
       "6 30.89                                                   NA            \n",
       "  min.long.lamina max.long.lamina min.ancho.hoja max.ancho.hoja tipo.hoja\n",
       "1 3.5             13              1.5            5              simple   \n",
       "2  NA             NA                                                     \n",
       "3  NA             NA                                                     \n",
       "4 6.0             26              3              14             simple   \n",
       "5  NA             NA                                                     \n",
       "6  NA             NA                                            compuesta"
      ]
     },
     "metadata": {},
     "output_type": "display_data"
    }
   ],
   "source": [
    "head(datos)"
   ]
  },
  {
   "cell_type": "code",
   "execution_count": 16,
   "metadata": {},
   "outputs": [
    {
     "data": {
      "text/html": [
       "<table>\n",
       "<caption>A data.frame: 6 × 16</caption>\n",
       "<thead>\n",
       "\t<tr><th></th><th scope=col>order</th><th scope=col>family</th><th scope=col>genus</th><th scope=col>species.epithet</th><th scope=col>stem.length.m</th><th scope=col>VD.base.um</th><th scope=col>VDtip.um</th><th scope=col>min.long.hoja</th><th scope=col>max.long.hoja</th><th scope=col>min.long.peciolo</th><th scope=col>max.long.peciolo</th><th scope=col>min.long.lamina</th><th scope=col>max.long.lamina</th><th scope=col>min.ancho.hoja</th><th scope=col>max.ancho.hoja</th><th scope=col>tipo.hoja</th></tr>\n",
       "\t<tr><th></th><th scope=col>&lt;fct&gt;</th><th scope=col>&lt;fct&gt;</th><th scope=col>&lt;fct&gt;</th><th scope=col>&lt;fct&gt;</th><th scope=col>&lt;dbl&gt;</th><th scope=col>&lt;dbl&gt;</th><th scope=col>&lt;dbl&gt;</th><th scope=col>&lt;fct&gt;</th><th scope=col>&lt;fct&gt;</th><th scope=col>&lt;fct&gt;</th><th scope=col>&lt;dbl&gt;</th><th scope=col>&lt;dbl&gt;</th><th scope=col>&lt;dbl&gt;</th><th scope=col>&lt;fct&gt;</th><th scope=col>&lt;fct&gt;</th><th scope=col>&lt;fct&gt;</th></tr>\n",
       "</thead>\n",
       "<tbody>\n",
       "\t<tr><th scope=row>616</th><td>Zingiberales </td><td>Costaceae     </td><td>Costus    </td><td>scaber    </td><td>1.13</td><td> 75.92</td><td>43.09</td><td></td><td></td><td></td><td>NA</td><td>NA</td><td>NA</td><td></td><td></td><td></td></tr>\n",
       "\t<tr><th scope=row>617</th><td>Zingiberales </td><td>Strelitziaceae</td><td>Strelitzia</td><td>nicolai   </td><td>5.06</td><td>112.73</td><td>62.91</td><td></td><td></td><td></td><td>NA</td><td>NA</td><td>NA</td><td></td><td></td><td></td></tr>\n",
       "\t<tr><th scope=row>618</th><td>Zygophyllales</td><td>Zygophyllaceae</td><td>Guaiacum  </td><td>coulteri  </td><td>7.40</td><td> 49.99</td><td>16.39</td><td></td><td></td><td></td><td>NA</td><td>NA</td><td>NA</td><td></td><td></td><td></td></tr>\n",
       "\t<tr><th scope=row>619</th><td>Zygophyllales</td><td>Zygophyllaceae</td><td>Guaiacum  </td><td>unijugum  </td><td>2.09</td><td> 50.62</td><td>17.05</td><td></td><td></td><td></td><td>NA</td><td>NA</td><td>NA</td><td></td><td></td><td></td></tr>\n",
       "\t<tr><th scope=row>620</th><td>Zygophyllales</td><td>Zygophyllaceae</td><td>Larrea    </td><td>tridentata</td><td>3.38</td><td> 39.63</td><td>17.67</td><td></td><td></td><td></td><td>NA</td><td>NA</td><td>NA</td><td></td><td></td><td></td></tr>\n",
       "\t<tr><th scope=row>621</th><td>Zygophyllales</td><td>Zygophyllaceae</td><td>Tribulus  </td><td>terrestris</td><td>1.50</td><td> 48.14</td><td>20.75</td><td></td><td></td><td></td><td>NA</td><td>NA</td><td>NA</td><td></td><td></td><td></td></tr>\n",
       "</tbody>\n",
       "</table>\n"
      ],
      "text/latex": [
       "A data.frame: 6 × 16\n",
       "\\begin{tabular}{r|llllllllllllllll}\n",
       "  & order & family & genus & species.epithet & stem.length.m & VD.base.um & VDtip.um & min.long.hoja & max.long.hoja & min.long.peciolo & max.long.peciolo & min.long.lamina & max.long.lamina & min.ancho.hoja & max.ancho.hoja & tipo.hoja\\\\\n",
       "  & <fct> & <fct> & <fct> & <fct> & <dbl> & <dbl> & <dbl> & <fct> & <fct> & <fct> & <dbl> & <dbl> & <dbl> & <fct> & <fct> & <fct>\\\\\n",
       "\\hline\n",
       "\t616 & Zingiberales  & Costaceae      & Costus     & scaber     & 1.13 &  75.92 & 43.09 &  &  &  & NA & NA & NA &  &  & \\\\\n",
       "\t617 & Zingiberales  & Strelitziaceae & Strelitzia & nicolai    & 5.06 & 112.73 & 62.91 &  &  &  & NA & NA & NA &  &  & \\\\\n",
       "\t618 & Zygophyllales & Zygophyllaceae & Guaiacum   & coulteri   & 7.40 &  49.99 & 16.39 &  &  &  & NA & NA & NA &  &  & \\\\\n",
       "\t619 & Zygophyllales & Zygophyllaceae & Guaiacum   & unijugum   & 2.09 &  50.62 & 17.05 &  &  &  & NA & NA & NA &  &  & \\\\\n",
       "\t620 & Zygophyllales & Zygophyllaceae & Larrea     & tridentata & 3.38 &  39.63 & 17.67 &  &  &  & NA & NA & NA &  &  & \\\\\n",
       "\t621 & Zygophyllales & Zygophyllaceae & Tribulus   & terrestris & 1.50 &  48.14 & 20.75 &  &  &  & NA & NA & NA &  &  & \\\\\n",
       "\\end{tabular}\n"
      ],
      "text/markdown": [
       "\n",
       "A data.frame: 6 × 16\n",
       "\n",
       "| <!--/--> | order &lt;fct&gt; | family &lt;fct&gt; | genus &lt;fct&gt; | species.epithet &lt;fct&gt; | stem.length.m &lt;dbl&gt; | VD.base.um &lt;dbl&gt; | VDtip.um &lt;dbl&gt; | min.long.hoja &lt;fct&gt; | max.long.hoja &lt;fct&gt; | min.long.peciolo &lt;fct&gt; | max.long.peciolo &lt;dbl&gt; | min.long.lamina &lt;dbl&gt; | max.long.lamina &lt;dbl&gt; | min.ancho.hoja &lt;fct&gt; | max.ancho.hoja &lt;fct&gt; | tipo.hoja &lt;fct&gt; |\n",
       "|---|---|---|---|---|---|---|---|---|---|---|---|---|---|---|---|---|\n",
       "| 616 | Zingiberales  | Costaceae      | Costus     | scaber     | 1.13 |  75.92 | 43.09 | <!----> | <!----> | <!----> | NA | NA | NA | <!----> | <!----> | <!----> |\n",
       "| 617 | Zingiberales  | Strelitziaceae | Strelitzia | nicolai    | 5.06 | 112.73 | 62.91 | <!----> | <!----> | <!----> | NA | NA | NA | <!----> | <!----> | <!----> |\n",
       "| 618 | Zygophyllales | Zygophyllaceae | Guaiacum   | coulteri   | 7.40 |  49.99 | 16.39 | <!----> | <!----> | <!----> | NA | NA | NA | <!----> | <!----> | <!----> |\n",
       "| 619 | Zygophyllales | Zygophyllaceae | Guaiacum   | unijugum   | 2.09 |  50.62 | 17.05 | <!----> | <!----> | <!----> | NA | NA | NA | <!----> | <!----> | <!----> |\n",
       "| 620 | Zygophyllales | Zygophyllaceae | Larrea     | tridentata | 3.38 |  39.63 | 17.67 | <!----> | <!----> | <!----> | NA | NA | NA | <!----> | <!----> | <!----> |\n",
       "| 621 | Zygophyllales | Zygophyllaceae | Tribulus   | terrestris | 1.50 |  48.14 | 20.75 | <!----> | <!----> | <!----> | NA | NA | NA | <!----> | <!----> | <!----> |\n",
       "\n"
      ],
      "text/plain": [
       "    order         family         genus      species.epithet stem.length.m\n",
       "616 Zingiberales  Costaceae      Costus     scaber          1.13         \n",
       "617 Zingiberales  Strelitziaceae Strelitzia nicolai         5.06         \n",
       "618 Zygophyllales Zygophyllaceae Guaiacum   coulteri        7.40         \n",
       "619 Zygophyllales Zygophyllaceae Guaiacum   unijugum        2.09         \n",
       "620 Zygophyllales Zygophyllaceae Larrea     tridentata      3.38         \n",
       "621 Zygophyllales Zygophyllaceae Tribulus   terrestris      1.50         \n",
       "    VD.base.um VDtip.um min.long.hoja max.long.hoja min.long.peciolo\n",
       "616  75.92     43.09                                                \n",
       "617 112.73     62.91                                                \n",
       "618  49.99     16.39                                                \n",
       "619  50.62     17.05                                                \n",
       "620  39.63     17.67                                                \n",
       "621  48.14     20.75                                                \n",
       "    max.long.peciolo min.long.lamina max.long.lamina min.ancho.hoja\n",
       "616 NA               NA              NA                            \n",
       "617 NA               NA              NA                            \n",
       "618 NA               NA              NA                            \n",
       "619 NA               NA              NA                            \n",
       "620 NA               NA              NA                            \n",
       "621 NA               NA              NA                            \n",
       "    max.ancho.hoja tipo.hoja\n",
       "616                         \n",
       "617                         \n",
       "618                         \n",
       "619                         \n",
       "620                         \n",
       "621                         "
      ]
     },
     "metadata": {},
     "output_type": "display_data"
    }
   ],
   "source": [
    "tail(datos)"
   ]
  },
  {
   "cell_type": "markdown",
   "metadata": {},
   "source": [
    "8. Solicita a R que te devuelva la media y la mediana de todos los datos continuos y una tabla de frecuencias para los datos categóricos. ¿Conoces algún comando que te devuelva el resumen de las estadísticas descriptivas de la base?"
   ]
  },
  {
   "cell_type": "code",
   "execution_count": 18,
   "metadata": {},
   "outputs": [
    {
     "name": "stderr",
     "output_type": "stream",
     "text": [
      "Warning message in mean.default(datos$max.long.hoja, na.rm = TRUE):\n",
      "“argument is not numeric or logical: returning NA”\n"
     ]
    },
    {
     "data": {
      "text/html": [
       "&lt;NA&gt;"
      ],
      "text/latex": [
       "<NA>"
      ],
      "text/markdown": [
       "&lt;NA&gt;"
      ],
      "text/plain": [
       "[1] NA"
      ]
     },
     "metadata": {},
     "output_type": "display_data"
    }
   ],
   "source": [
    "mean(datos$max.long.hoja, na.rm=TRUE)"
   ]
  },
  {
   "cell_type": "code",
   "execution_count": 20,
   "metadata": {},
   "outputs": [
    {
     "ename": "ERROR",
     "evalue": "Error in median.default(datos$max.long.hoja, na.rm = TRUE): need numeric data\n",
     "output_type": "error",
     "traceback": [
      "Error in median.default(datos$max.long.hoja, na.rm = TRUE): need numeric data\nTraceback:\n",
      "1. median(datos$max.long.hoja, na.rm = TRUE)",
      "2. median.default(datos$max.long.hoja, na.rm = TRUE)",
      "3. stop(\"need numeric data\")"
     ]
    }
   ],
   "source": [
    "median(datos$max.long.hoja, na.rm=TRUE)"
   ]
  },
  {
   "cell_type": "code",
   "execution_count": 22,
   "metadata": {},
   "outputs": [
    {
     "data": {
      "text/plain": [
       "\n",
       "          compuesta Compuesta    simple    Simple   Simples \n",
       "      494        14        25        44        41         3 "
      ]
     },
     "metadata": {},
     "output_type": "display_data"
    }
   ],
   "source": [
    "table(datos$tipo.hoja)"
   ]
  },
  {
   "cell_type": "code",
   "execution_count": 23,
   "metadata": {},
   "outputs": [
    {
     "data": {
      "text/plain": [
       "          order               family               genus        species.epithet\n",
       " Asterales   : 43   Fabaceae     : 41   Cryptocarya   : 10   sp         : 21   \n",
       " Ericales    : 43   Ericaceae    : 30   Quercus       :  8   californica:  6   \n",
       " Rosales     : 43   Asteraceae   : 28   Viburnum      :  7   mexicana   :  5   \n",
       " Fabales     : 42   Rosaceae     : 22   Acacia        :  6   scandens   :  5   \n",
       " Malpighiales: 40   Lauraceae    : 17   Arctostaphylos:  5   gracilis   :  4   \n",
       " Lamiales    : 36   Euphorbiaceae: 14   Berberis      :  5   mexicanum  :  4   \n",
       " (Other)     :374   (Other)      :469   (Other)       :580   (Other)    :576   \n",
       " stem.length.m      VD.base.um        VDtip.um      min.long.hoja max.long.hoja\n",
       " Min.   : 0.070   Min.   :  9.38   Min.   :  3.63          :560          :560  \n",
       " 1st Qu.: 1.490   1st Qu.: 29.44   1st Qu.: 11.39   10     :  5   10     :  4  \n",
       " Median : 3.890   Median : 49.17   Median : 14.67   3      :  4   25     :  4  \n",
       " Mean   : 6.328   Mean   : 60.56   Mean   : 17.90   5      :  4   1      :  2  \n",
       " 3rd Qu.: 7.700   3rd Qu.: 76.43   3rd Qu.: 20.80   0.5    :  3   11     :  2  \n",
       " Max.   :55.000   Max.   :303.71   Max.   :130.37   1.8    :  3   13     :  2  \n",
       "                                                    (Other): 42   (Other): 47  \n",
       " min.long.peciolo max.long.peciolo min.long.lamina   max.long.lamina \n",
       "        :548      Min.   :  0.10   Min.   :  0.200   Min.   :  1.00  \n",
       " 1      : 10      1st Qu.:  0.80   1st Qu.:  1.700   1st Qu.:  5.50  \n",
       " 0.1    :  9      Median :  1.90   Median :  4.100   Median : 10.50  \n",
       " 2      :  6      Mean   : 10.46   Mean   :  8.451   Mean   : 16.64  \n",
       " 0.5    :  5      3rd Qu.:  4.00   3rd Qu.:  6.000   3rd Qu.: 15.00  \n",
       " 0.2    :  4      Max.   :250.00   Max.   :150.000   Max.   :200.00  \n",
       " (Other): 39      NA's   :544      NA's   :560       NA's   :558     \n",
       " min.ancho.hoja max.ancho.hoja     tipo.hoja  \n",
       "        :526           :525             :494  \n",
       " 2      : 10    5      :  7    compuesta: 14  \n",
       " 1.5    :  9    6      :  6    Compuesta: 25  \n",
       " 4      :  6    2      :  4    simple   : 44  \n",
       " 0.3    :  5    4.5    :  4    Simple   : 41  \n",
       " 3      :  5    8      :  4    Simples  :  3  \n",
       " (Other): 60    (Other): 71                   "
      ]
     },
     "metadata": {},
     "output_type": "display_data"
    }
   ],
   "source": [
    "summary(datos)"
   ]
  },
  {
   "cell_type": "markdown",
   "metadata": {},
   "source": [
    "9. Parece que tenemos problemas con la variable tipo de hoja. Arreglemos esos problemas para que solamente tengamos dos niveles para ese factor.\n",
    "\n",
    "10. Genera una nueva variable que incluya el nombre binomial de la especie separando género y epíteto con un guión bajo."
   ]
  },
  {
   "cell_type": "code",
   "execution_count": 24,
   "metadata": {},
   "outputs": [],
   "source": [
    "datos$species <- paste(datos$genus,\"_\",datos$species.epithet)\n"
   ]
  },
  {
   "cell_type": "markdown",
   "metadata": {},
   "source": [
    "11. Revisa si hay diferentes ortografías para orden, familia y género. Arregla los problemas que surjan."
   ]
  },
  {
   "cell_type": "code",
   "execution_count": 26,
   "metadata": {},
   "outputs": [
    {
     "data": {
      "text/plain": [
       "\n",
       "                        Alismatales           Apiales      Aquifoliales \n",
       "                1                 2                 9                 5 \n",
       "         Arecales       Asparagales         Asterales  Austrobaileyales \n",
       "                6                 2                43                 4 \n",
       "Berberidopsidales       Boraginales       Brassicales         Bruniales \n",
       "                3                 4                 7                 2 \n",
       "          Buxales        Canellales    Caryophyllales       Celastrales \n",
       "                1                 1                32                 8 \n",
       "    Chloranthales      Commelinales          Cornales   Crossosomatales \n",
       "                7                 1                 1                 3 \n",
       "     Cucurbitales       Dilleniales        Dipsacales          Ericales \n",
       "                4                 6                15                43 \n",
       "    Escalloniales           Fabales           Fagales         Garryales \n",
       "                4                42                27                 3 \n",
       "      Gentianales        Geraniales        Huerteales          Lamiales \n",
       "               18                 2                 4                36 \n",
       "         Laurales          Liliales       Magnoliales      Malpighiales \n",
       "               33                 2                11                40 \n",
       "         Malvales    Metteneusiales          Myrtales        Oxalidales \n",
       "               13                 1                20                13 \n",
       "       Pandanales    Paracryphiales      Picramniales         Piperales \n",
       "                1                 5                 2                 4 \n",
       "           Poales         Proteales      Ranunculales           Rosales \n",
       "                3                10                11                43 \n",
       "         Sabiales        Santalales        Sapindales      Saxifragales \n",
       "                2                 9                26                 8 \n",
       "        Solanales           Vitales      Zingiberales     Zygophyllales \n",
       "                8                 4                 2                 4 "
      ]
     },
     "metadata": {},
     "output_type": "display_data"
    }
   ],
   "source": [
    "table(datos$order)"
   ]
  },
  {
   "cell_type": "code",
   "execution_count": 27,
   "metadata": {},
   "outputs": [
    {
     "data": {
      "text/plain": [
       "\n",
       "       Acanthaceae        Achariaceae    Achatocarpaceae      Actinidiaceae \n",
       "                 1                  1                  1                  2 \n",
       "         Adoxaceae      Aextoxicaceae          Aizoaceae         Akaniaceae \n",
       "                 9                  1                  1                  1 \n",
       "    Alseuosmiaceae       Altingiaceae      Amaranthaceae      Anacardiaceae \n",
       "                 2                  1                  4                  7 \n",
       "        Annonaceae   Aphanopetalaceae        Apocynaceae      Aquifoliaceae \n",
       "                 6                  1                 11                  3 \n",
       "           Araceae         Araliaceae          Arecaceae     Argophyllaceae \n",
       "                 2                  4                  6                  4 \n",
       "  Aristolochiaceae       Asparagaceae         Asteraceae Atherospermataceae \n",
       "                 2                  2                 28                  3 \n",
       " Austrobaileyaceae       Balanopaceae        Basellaceae           Bataceae \n",
       "                 1                  1                  1                  1 \n",
       "     Berberidaceae Berberidopsidaceae         Betulaceae       Bignoniaceae \n",
       "                 6                  2                  6                 13 \n",
       "          Bixaceae       Boraginaceae      Brunelliaceae         Bruniaceae \n",
       "                 1                  3                  1                  1 \n",
       "       Burseraceae           Buxaceae          Cactaceae     Calophyllaceae \n",
       "                 5                  1                 12                  1 \n",
       "    Calycanthaceae      Campanulaceae        Canellaceae     Caprifoliaceae \n",
       "                 1                  1                  1                  5 \n",
       " Cardiopteridaceae         Caricaceae      Casuarinaceae       Celastraceae \n",
       "                 1                  2                  3                  8 \n",
       "    Chenopodiaceae     Chloranthaceae   Chrysobalanaceae        Clethraceae \n",
       "                 1                  7                  1                  1 \n",
       "        Clusiaceae     Columelliaceae       Combretaceae      Commelinaceae \n",
       "                 3                  1                  1                  1 \n",
       "       Connaraceae     Convolvulaceae       Coriariaceae          Cornaceae \n",
       "                 1                  6                  1                  1 \n",
       "         Costaceae   Crossosomataceae      Cucurbitaceae        Cunoniaceae \n",
       "                 1                  1                  3                  7 \n",
       "      Dilleniaceae   Dipentodontaceae          Ebenaceae     Elaeocarpaceae \n",
       "                 6                  2                  1                  4 \n",
       "         Ericaceae    Erythroxylaceae     Escalloniaceae      Euphorbiaceae \n",
       "                30                  1                  4                 14 \n",
       "     Eupomatiaceae           Fabaceae           Fagaceae    Flagellariaceae \n",
       "                 2                 41                 10                  1 \n",
       " Forchhammeriaceae     Fouquieriaceae         Garryaceae        Geraniaceae \n",
       "                 1                  1                  3                  1 \n",
       "      Gesneriaceae       Goodeniaceae    Grossulariaceae    Gyrostemonaceae \n",
       "                 2                  1                  2                  2 \n",
       "      Haloragaceae     Hamamelidaceae      Hernandiaceae    Himantandraceae \n",
       "                 1                  2                  4                  1 \n",
       "       Huerteaceae      Hydrangeaceae       Hypericaceae       Juglandaceae \n",
       "                 1                  1                  2                  1 \n",
       "         Lamiaceae          Lauraceae       Loranthaceae       Magnoliaceae \n",
       "                 6                 17                  3                  1 \n",
       "     Malpighiaceae          Malvaceae    Melastomataceae      Melianthaceae \n",
       "                 2                  8                  7                  1 \n",
       "    Menispermaceae    Metteneusiaceae        Monimiaceae           Moraceae \n",
       "                 2                  1                  6                  2 \n",
       "     Muntingiaceae     Myodocarpaceae         Myricaceae      Myristicaceae \n",
       "                 1                  1                  2                  1 \n",
       "         Myrtaceae      Nothofagaceae      Nyctaginaceae          Ochnaceae \n",
       "                 9                  5                  3                  1 \n",
       "         Olacaceae           Oleaceae         Onagraceae      Oncothecaceae \n",
       "                 1                  4                  1                  1 \n",
       "        Opiliaceae      Orobanchaceae        Pandanaceae       Papaveraceae \n",
       "                 1                  2                  1                  1 \n",
       "   Paracryphiaceae     Passifloraceae      Pennantiaceae       Petenaeaceae \n",
       "                 5                  2                  1                  1 \n",
       "      Phellinaceae     Phyllanthaceae     Phytolaccaceae      Picramniaceae \n",
       "                 4                  2                  1                  2 \n",
       "   Picrodendraceae         Piperaceae     Pittosporaceae     Plantaginaceae \n",
       "                 2                  2                  3                  4 \n",
       "           Poaceae       Polygalaceae       Polygonaceae        Primulaceae \n",
       "                 1                  1                  6                  3 \n",
       "        Proteaceae      Ranunculaceae       Restionaceae         Rhamnaceae \n",
       "                10                  2                  1                 12 \n",
       "    Rhizophoraceae           Rosaceae        Rousseaceae          Rubiaceae \n",
       "                 1                 22                  2                  7 \n",
       "          Rutaceae          Sabiaceae         Salicaceae        Santalaceae \n",
       "                 4                  2                  4                  4 \n",
       "       Sapindaceae         Sapotaceae     Schisandraceae   Scrophulariaceae \n",
       "                 9                  2                  1                  1 \n",
       "     Simaroubaceae     Simmondsiaceae       Siparunaceae        Smilacaceae \n",
       "                 1                  1                  2                  2 \n",
       "        Solanaceae      Staphyleaceae      Stemonuraceae  Strasburgeriaceae \n",
       "                 2                  1                  1                  1 \n",
       "    Strelitziaceae       Stylidiaceae        Styracaceae       Symplocaceae \n",
       "                 1                  1                  1                  2 \n",
       "      Tamaricaceae   Tetracarpaeaceae      Thymelaeaceae       Trimeniaceae \n",
       "                 1                  1                  3                  2 \n",
       "          Ulmaceae         Urticaceae        Verbenaceae          Violaceae \n",
       "                 3                  3                  4                  2 \n",
       "          Vitaceae       Vochysiaceae     Zygophyllaceae \n",
       "                 4                  2                  5 "
      ]
     },
     "metadata": {},
     "output_type": "display_data"
    }
   ],
   "source": [
    "table(datos$family)"
   ]
  },
  {
   "cell_type": "markdown",
   "metadata": {},
   "source": [
    "12. ¿Cuál es la familia con mayor número de datos en la base? Lo puedes sacar a ojo, pero la idea es practicar con R la forma de hacerlo.\n"
   ]
  },
  {
   "cell_type": "code",
   "execution_count": 30,
   "metadata": {},
   "outputs": [
    {
     "data": {
      "text/plain": [
       "\n",
       "       Acanthaceae        Achariaceae    Achatocarpaceae      Aextoxicaceae \n",
       "                 1                  1                  1                  1 \n",
       "         Aizoaceae         Akaniaceae       Altingiaceae   Aphanopetalaceae \n",
       "                 1                  1                  1                  1 \n",
       " Austrobaileyaceae       Balanopaceae        Basellaceae           Bataceae \n",
       "                 1                  1                  1                  1 \n",
       "          Bixaceae      Brunelliaceae         Bruniaceae           Buxaceae \n",
       "                 1                  1                  1                  1 \n",
       "    Calophyllaceae     Calycanthaceae      Campanulaceae        Canellaceae \n",
       "                 1                  1                  1                  1 \n",
       " Cardiopteridaceae     Chenopodiaceae   Chrysobalanaceae        Clethraceae \n",
       "                 1                  1                  1                  1 \n",
       "    Columelliaceae       Combretaceae      Commelinaceae        Connaraceae \n",
       "                 1                  1                  1                  1 \n",
       "      Coriariaceae          Cornaceae          Costaceae   Crossosomataceae \n",
       "                 1                  1                  1                  1 \n",
       "         Ebenaceae    Erythroxylaceae    Flagellariaceae  Forchhammeriaceae \n",
       "                 1                  1                  1                  1 \n",
       "    Fouquieriaceae        Geraniaceae       Goodeniaceae       Haloragaceae \n",
       "                 1                  1                  1                  1 \n",
       "   Himantandraceae        Huerteaceae      Hydrangeaceae       Juglandaceae \n",
       "                 1                  1                  1                  1 \n",
       "      Magnoliaceae      Melianthaceae    Metteneusiaceae      Muntingiaceae \n",
       "                 1                  1                  1                  1 \n",
       "    Myodocarpaceae      Myristicaceae          Ochnaceae          Olacaceae \n",
       "                 1                  1                  1                  1 \n",
       "        Onagraceae      Oncothecaceae         Opiliaceae        Pandanaceae \n",
       "                 1                  1                  1                  1 \n",
       "      Papaveraceae      Pennantiaceae       Petenaeaceae     Phytolaccaceae \n",
       "                 1                  1                  1                  1 \n",
       "           Poaceae       Polygalaceae       Restionaceae     Rhizophoraceae \n",
       "                 1                  1                  1                  1 \n",
       "    Schisandraceae   Scrophulariaceae      Simaroubaceae     Simmondsiaceae \n",
       "                 1                  1                  1                  1 \n",
       "     Staphyleaceae      Stemonuraceae  Strasburgeriaceae     Strelitziaceae \n",
       "                 1                  1                  1                  1 \n",
       "      Stylidiaceae        Styracaceae       Tamaricaceae   Tetracarpaeaceae \n",
       "                 1                  1                  1                  1 \n",
       "     Actinidiaceae     Alseuosmiaceae            Araceae   Aristolochiaceae \n",
       "                 2                  2                  2                  2 \n",
       "      Asparagaceae Berberidopsidaceae         Caricaceae   Dipentodontaceae \n",
       "                 2                  2                  2                  2 \n",
       "     Eupomatiaceae       Gesneriaceae    Grossulariaceae    Gyrostemonaceae \n",
       "                 2                  2                  2                  2 \n",
       "    Hamamelidaceae       Hypericaceae      Malpighiaceae     Menispermaceae \n",
       "                 2                  2                  2                  2 \n",
       "          Moraceae         Myricaceae      Orobanchaceae     Passifloraceae \n",
       "                 2                  2                  2                  2 \n",
       "    Phyllanthaceae      Picramniaceae    Picrodendraceae         Piperaceae \n",
       "                 2                  2                  2                  2 \n",
       "     Ranunculaceae        Rousseaceae          Sabiaceae         Sapotaceae \n",
       "                 2                  2                  2                  2 \n",
       "      Siparunaceae        Smilacaceae         Solanaceae       Symplocaceae \n",
       "                 2                  2                  2                  2 \n",
       "      Trimeniaceae          Violaceae       Vochysiaceae      Aquifoliaceae \n",
       "                 2                  2                  2                  3 \n",
       "Atherospermataceae       Boraginaceae      Casuarinaceae         Clusiaceae \n",
       "                 3                  3                  3                  3 \n",
       "     Cucurbitaceae         Garryaceae       Loranthaceae      Nyctaginaceae \n",
       "                 3                  3                  3                  3 \n",
       "    Pittosporaceae        Primulaceae      Thymelaeaceae           Ulmaceae \n",
       "                 3                  3                  3                  3 \n",
       "        Urticaceae      Amaranthaceae         Araliaceae     Argophyllaceae \n",
       "                 3                  4                  4                  4 \n",
       "    Elaeocarpaceae     Escalloniaceae      Hernandiaceae           Oleaceae \n",
       "                 4                  4                  4                  4 \n",
       "      Phellinaceae     Plantaginaceae           Rutaceae         Salicaceae \n",
       "                 4                  4                  4                  4 \n",
       "       Santalaceae        Verbenaceae           Vitaceae        Burseraceae \n",
       "                 4                  4                  4                  5 \n",
       "    Caprifoliaceae      Nothofagaceae    Paracryphiaceae     Zygophyllaceae \n",
       "                 5                  5                  5                  5 \n",
       "        Annonaceae          Arecaceae      Berberidaceae         Betulaceae \n",
       "                 6                  6                  6                  6 \n",
       "    Convolvulaceae       Dilleniaceae          Lamiaceae        Monimiaceae \n",
       "                 6                  6                  6                  6 \n",
       "      Polygonaceae      Anacardiaceae     Chloranthaceae        Cunoniaceae \n",
       "                 6                  7                  7                  7 \n",
       "   Melastomataceae          Rubiaceae       Celastraceae          Malvaceae \n",
       "                 7                  7                  8                  8 \n",
       "         Adoxaceae          Myrtaceae        Sapindaceae           Fagaceae \n",
       "                 9                  9                  9                 10 \n",
       "        Proteaceae        Apocynaceae          Cactaceae         Rhamnaceae \n",
       "                10                 11                 12                 12 \n",
       "      Bignoniaceae      Euphorbiaceae          Lauraceae           Rosaceae \n",
       "                13                 14                 17                 22 \n",
       "        Asteraceae          Ericaceae           Fabaceae \n",
       "                28                 30                 41 "
      ]
     },
     "metadata": {},
     "output_type": "display_data"
    }
   ],
   "source": [
    "sort(table(datos$family))"
   ]
  },
  {
   "cell_type": "markdown",
   "metadata": {},
   "source": [
    "13. Genera un histograma para las variables continuas.¿Cómo es la distribución de los datos? ¿Qué transformación aplicarías para este tipo de distribución para lograr una distribución al menos más simétrica?"
   ]
  },
  {
   "cell_type": "code",
   "execution_count": 31,
   "metadata": {},
   "outputs": [
    {
     "data": {
      "image/png": "[encoded data removed]",
      "text/plain": [
       "Plot with title “Histogram of datos$VD.base.um”"
      ]
     },
     "metadata": {
      "image/png": {
       "height": 420,
       "width": 420
      }
     },
     "output_type": "display_data"
    }
   ],
   "source": [
    "hist(datos$VD.base.um)"
   ]
  },
  {
   "cell_type": "markdown",
   "metadata": {},
   "source": [
    "14. Calcula las siguientes estadísticas descriptivas de tendencia central para la variable diámetro de vaso en la base: media, mediana y moda. ¿Cuál de estas medidas describiría de mejor manera el diámetro de vaso en la base?\n",
    "\n"
   ]
  },
  {
   "cell_type": "code",
   "execution_count": 33,
   "metadata": {},
   "outputs": [
    {
     "data": {
      "text/html": [
       "60.5590177133655"
      ],
      "text/latex": [
       "60.5590177133655"
      ],
      "text/markdown": [
       "60.5590177133655"
      ],
      "text/plain": [
       "[1] 60.55902"
      ]
     },
     "metadata": {},
     "output_type": "display_data"
    }
   ],
   "source": [
    "mean(datos$VD.base.um, rm=TRUE) "
   ]
  },
  {
   "cell_type": "code",
   "execution_count": 34,
   "metadata": {},
   "outputs": [
    {
     "data": {
      "text/html": [
       "49.17"
      ],
      "text/latex": [
       "49.17"
      ],
      "text/markdown": [
       "49.17"
      ],
      "text/plain": [
       "[1] 49.17"
      ]
     },
     "metadata": {},
     "output_type": "display_data"
    }
   ],
   "source": [
    "median(datos$VD.base.um, na.rm=TRUE)  "
   ]
  },
  {
   "cell_type": "code",
   "execution_count": 36,
   "metadata": {},
   "outputs": [
    {
     "data": {
      "text/html": [
       "<strong>30.89:</strong> 3"
      ],
      "text/latex": [
       "\\textbf{30.89:} 3"
      ],
      "text/markdown": [
       "**30.89:** 3"
      ],
      "text/plain": [
       "30.89 \n",
       "    3 "
      ]
     },
     "metadata": {},
     "output_type": "display_data"
    }
   ],
   "source": [
    "tail(sort(table(datos$VD.base.um)),1) "
   ]
  },
  {
   "cell_type": "markdown",
   "metadata": {},
   "source": [
    "15. Calcula las siguientes estadísticas de dispersión: varianza, rango, Q1, Q3, rango intercuartílico. Haz lo necesario para estos cálculos en presencia de datos faltantes. ¿Qué nos dicen los cuantiles y la mediana sobre la distribución de los datos de diámetro de vaso en la base?\n",
    "\n"
   ]
  },
  {
   "cell_type": "code",
   "execution_count": 37,
   "metadata": {},
   "outputs": [
    {
     "data": {
      "text/html": [
       "1964.90763790452"
      ],
      "text/latex": [
       "1964.90763790452"
      ],
      "text/markdown": [
       "1964.90763790452"
      ],
      "text/plain": [
       "[1] 1964.908"
      ]
     },
     "metadata": {},
     "output_type": "display_data"
    }
   ],
   "source": [
    "var(datos$VD.base.um, na.rm=TRUE)\n"
   ]
  },
  {
   "cell_type": "code",
   "execution_count": 38,
   "metadata": {},
   "outputs": [
    {
     "data": {
      "text/html": [
       "<style>\n",
       ".list-inline {list-style: none; margin:0; padding: 0}\n",
       ".list-inline>li {display: inline-block}\n",
       ".list-inline>li:not(:last-child)::after {content: \"\\00b7\"; padding: 0 .5ex}\n",
       "</style>\n",
       "<ol class=list-inline><li>9.38</li><li>303.71</li></ol>\n"
      ],
      "text/latex": [
       "\\begin{enumerate*}\n",
       "\\item 9.38\n",
       "\\item 303.71\n",
       "\\end{enumerate*}\n"
      ],
      "text/markdown": [
       "1. 9.38\n",
       "2. 303.71\n",
       "\n",
       "\n"
      ],
      "text/plain": [
       "[1]   9.38 303.71"
      ]
     },
     "metadata": {},
     "output_type": "display_data"
    }
   ],
   "source": [
    "range(datos$VD.base.um, na.rm=TRUE) ##explicar el manejo de na. \n"
   ]
  },
  {
   "cell_type": "code",
   "execution_count": 39,
   "metadata": {},
   "outputs": [
    {
     "data": {
      "text/html": [
       "<style>\n",
       ".dl-inline {width: auto; margin:0; padding: 0}\n",
       ".dl-inline>dt, .dl-inline>dd {float: none; width: auto; display: inline-block}\n",
       ".dl-inline>dt::after {content: \":\\0020\"; padding-right: .5ex}\n",
       ".dl-inline>dt:not(:first-of-type) {padding-left: .5ex}\n",
       "</style><dl class=dl-inline><dt>0%</dt><dd>9.38</dd><dt>25%</dt><dd>29.44</dd><dt>50%</dt><dd>49.17</dd><dt>75%</dt><dd>76.43</dd><dt>100%</dt><dd>303.71</dd></dl>\n"
      ],
      "text/latex": [
       "\\begin{description*}\n",
       "\\item[0\\textbackslash{}\\%] 9.38\n",
       "\\item[25\\textbackslash{}\\%] 29.44\n",
       "\\item[50\\textbackslash{}\\%] 49.17\n",
       "\\item[75\\textbackslash{}\\%] 76.43\n",
       "\\item[100\\textbackslash{}\\%] 303.71\n",
       "\\end{description*}\n"
      ],
      "text/markdown": [
       "0%\n",
       ":   9.3825%\n",
       ":   29.4450%\n",
       ":   49.1775%\n",
       ":   76.43100%\n",
       ":   303.71\n",
       "\n"
      ],
      "text/plain": [
       "    0%    25%    50%    75%   100% \n",
       "  9.38  29.44  49.17  76.43 303.71 "
      ]
     },
     "metadata": {},
     "output_type": "display_data"
    }
   ],
   "source": [
    "quantile(datos$VD.base.um, na.rm=TRUE)"
   ]
  },
  {
   "cell_type": "markdown",
   "metadata": {},
   "source": [
    "16. Calcula la desviación estándar de las siguientes formas: a) a través de la varianza, b) a través del comando sd()\n"
   ]
  },
  {
   "cell_type": "code",
   "execution_count": 40,
   "metadata": {},
   "outputs": [
    {
     "data": {
      "text/html": [
       "44.3272787107953"
      ],
      "text/latex": [
       "44.3272787107953"
      ],
      "text/markdown": [
       "44.3272787107953"
      ],
      "text/plain": [
       "[1] 44.32728"
      ]
     },
     "metadata": {},
     "output_type": "display_data"
    }
   ],
   "source": [
    "sqrt(var(datos$VD.base.um, na.rm=TRUE))###sd a través de var()"
   ]
  },
  {
   "cell_type": "code",
   "execution_count": 41,
   "metadata": {},
   "outputs": [
    {
     "data": {
      "text/html": [
       "44.3272787107953"
      ],
      "text/latex": [
       "44.3272787107953"
      ],
      "text/markdown": [
       "44.3272787107953"
      ],
      "text/plain": [
       "[1] 44.32728"
      ]
     },
     "metadata": {},
     "output_type": "display_data"
    }
   ],
   "source": [
    "sd(datos$VD.base.um, na.rm=TRUE)### sd a través de sd() "
   ]
  },
  {
   "cell_type": "markdown",
   "metadata": {},
   "source": [
    "17. Calcula el coeficiente de variación para la variable diámetro de vaso en la base."
   ]
  },
  {
   "cell_type": "code",
   "execution_count": 43,
   "metadata": {},
   "outputs": [
    {
     "name": "stderr",
     "output_type": "stream",
     "text": [
      "Warning message in mean.default(datos$max.long.hoja, na.rm = TRUE):\n",
      "“argument is not numeric or logical: returning NA”\n"
     ]
    },
    {
     "data": {
      "text/html": [
       "&lt;NA&gt;"
      ],
      "text/latex": [
       "<NA>"
      ],
      "text/markdown": [
       "&lt;NA&gt;"
      ],
      "text/plain": [
       "[1] NA"
      ]
     },
     "metadata": {},
     "output_type": "display_data"
    }
   ],
   "source": [
    "cvm <- (sd(datos$VD.base.um, na.rm=TRUE)/mean(datos$max.long.hoja, na.rm=TRUE))*100\n",
    "cvm\n",
    "## [1] 282.1724"
   ]
  },
  {
   "cell_type": "markdown",
   "metadata": {},
   "source": [
    "18. Calcula las principales estadísticas descriptivas con la instrucción summary() para las especies con diámetro de vaso basal mayor a 100. ¿Cuántas especies tienen ese tamaño de vasos en la base?\n"
   ]
  },
  {
   "cell_type": "code",
   "execution_count": 45,
   "metadata": {},
   "outputs": [
    {
     "data": {
      "text/html": [
       "<style>\n",
       ".list-inline {list-style: none; margin:0; padding: 0}\n",
       ".list-inline>li {display: inline-block}\n",
       ".list-inline>li:not(:last-child)::after {content: \"\\00b7\"; padding: 0 .5ex}\n",
       "</style>\n",
       "<ol class=list-inline><li>84</li><li>17</li></ol>\n"
      ],
      "text/latex": [
       "\\begin{enumerate*}\n",
       "\\item 84\n",
       "\\item 17\n",
       "\\end{enumerate*}\n"
      ],
      "text/markdown": [
       "1. 84\n",
       "2. 17\n",
       "\n",
       "\n"
      ],
      "text/plain": [
       "[1] 84 17"
      ]
     },
     "metadata": {},
     "output_type": "display_data"
    }
   ],
   "source": [
    "datos.VD.base.100um <- subset(datos, datos$VD.base.um>=100)\n",
    "dim(datos.VD.base.100um)"
   ]
  },
  {
   "cell_type": "code",
   "execution_count": 47,
   "metadata": {},
   "outputs": [
    {
     "data": {
      "text/plain": [
       "       order               family          genus       species.epithet\n",
       " Fabales  : 8   Fabaceae      : 8   Ipomoea   : 4   mexicana   : 3    \n",
       " Myrtales : 7   Myrtaceae     : 6   Quercus   : 4   excelsa    : 2    \n",
       " Fagales  : 6   Bignoniaceae  : 5   Cissus    : 3   mexicanum  : 2    \n",
       " Lamiales : 6   Convolvulaceae: 5   Eucalyptus: 3   acerifolius: 1    \n",
       " Rosales  : 5   Fagaceae      : 4   Entada    : 2   acouci     : 1    \n",
       " Solanales: 5   Vitaceae      : 3   Erythrina : 2   adstringens: 1    \n",
       " (Other)  :47   (Other)       :53   (Other)   :66   (Other)    :74    \n",
       " stem.length.m      VD.base.um       VDtip.um      min.long.hoja max.long.hoja\n",
       " Min.   : 2.640   Min.   :101.5   Min.   :  9.58          :73           :73   \n",
       " 1st Qu.: 7.588   1st Qu.:112.8   1st Qu.: 20.27   10     : 3    25     : 3   \n",
       " Median :15.050   Median :134.4   Median : 28.30   5      : 2    10     : 1   \n",
       " Mean   :17.611   Mean   :148.6   Mean   : 31.98   6      : 2    10 cm  : 1   \n",
       " 3rd Qu.:24.125   3rd Qu.:159.4   3rd Qu.: 38.71   15     : 1    12     : 1   \n",
       " Max.   :55.000   Max.   :303.7   Max.   :130.37   3.5    : 1    22     : 1   \n",
       "                                                   (Other): 2    (Other): 4   \n",
       " min.long.peciolo max.long.peciolo min.long.lamina max.long.lamina\n",
       "        :75       Min.   : 1.5     Min.   : 2.00   Min.   :12.00  \n",
       " 1      : 2       1st Qu.: 3.0     1st Qu.: 5.25   1st Qu.:14.25  \n",
       " 5      : 2       Median : 7.0     Median : 6.00   Median :16.00  \n",
       " 0.5    : 1       Mean   :16.5     Mean   : 8.00   Mean   :22.50  \n",
       " 0.7    : 1       3rd Qu.:15.0     3rd Qu.: 8.25   3rd Qu.:17.00  \n",
       " 1.3    : 1       Max.   :80.0     Max.   :20.00   Max.   :60.00  \n",
       " (Other): 2       NA's   :75       NA's   :78      NA's   :78     \n",
       " min.ancho.hoja max.ancho.hoja     tipo.hoja    species         \n",
       "        :68            :68              :66   Length:84         \n",
       " 3      : 3     -      : 2     compuesta: 1   Class :character  \n",
       " -      : 2     6      : 2     Compuesta: 5   Mode  :character  \n",
       " 5      : 2     10     : 1     simple   : 5                     \n",
       " 6      : 2     10.5   : 1     Simple   : 6                     \n",
       " 1.5    : 1     11     : 1     Simples  : 1                     \n",
       " (Other): 6     (Other): 9                                      "
      ]
     },
     "metadata": {},
     "output_type": "display_data"
    }
   ],
   "source": [
    "summary(datos.VD.base.100um)\n"
   ]
  },
  {
   "cell_type": "markdown",
   "metadata": {},
   "source": [
    "19. Calcula las principales estadísticas descriptivas con la instrucción summary() para las especies con un diámetro de vaso basal entre 50 y 150 um. ¿Cuántas especies tienen este tamaño de vaso?"
   ]
  },
  {
   "cell_type": "code",
   "execution_count": 49,
   "metadata": {},
   "outputs": [
    {
     "data": {
      "text/html": [
       "<style>\n",
       ".list-inline {list-style: none; margin:0; padding: 0}\n",
       ".list-inline>li {display: inline-block}\n",
       ".list-inline>li:not(:last-child)::after {content: \"\\00b7\"; padding: 0 .5ex}\n",
       "</style>\n",
       "<ol class=list-inline><li>279</li><li>17</li></ol>\n"
      ],
      "text/latex": [
       "\\begin{enumerate*}\n",
       "\\item 279\n",
       "\\item 17\n",
       "\\end{enumerate*}\n"
      ],
      "text/markdown": [
       "1. 279\n",
       "2. 17\n",
       "\n",
       "\n"
      ],
      "text/plain": [
       "[1] 279  17"
      ]
     },
     "metadata": {},
     "output_type": "display_data"
    }
   ],
   "source": [
    "datos.50.a.150um <- subset(datos, datos$VD.base.um<=150 & datos$VD.base.um>=50 )\n",
    "dim(datos.50.a.150um)"
   ]
  },
  {
   "cell_type": "code",
   "execution_count": 51,
   "metadata": {},
   "outputs": [
    {
     "data": {
      "text/plain": [
       "            order               family            genus    \n",
       " Laurales      : 27   Fabaceae     : 21   Cryptocarya: 10  \n",
       " Fabales       : 21   Lauraceae    : 16   Quercus    :  7  \n",
       " Malpighiales  : 20   Bignoniaceae :  9   Acacia     :  5  \n",
       " Sapindales    : 19   Euphorbiaceae:  8   Viburnum   :  5  \n",
       " Caryophyllales: 15   Fagaceae     :  8   Ascarina   :  4  \n",
       " Fagales       : 14   Myrtaceae    :  8   Bursera    :  4  \n",
       " (Other)       :163   (Other)      :209   (Other)    :244  \n",
       "      species.epithet stem.length.m      VD.base.um        VDtip.um    \n",
       " mexicanum    :  3    Min.   : 0.780   Min.   : 50.11   Min.   : 7.06  \n",
       " neocaledonica:  3    1st Qu.: 4.285   1st Qu.: 60.48   1st Qu.:14.49  \n",
       " scandens     :  3    Median : 6.670   Median : 74.23   Median :18.39  \n",
       " americana    :  2    Mean   : 8.627   Mean   : 79.73   Mean   :20.91  \n",
       " baillonii    :  2    3rd Qu.: 9.750   3rd Qu.: 92.24   3rd Qu.:24.62  \n",
       " edulis       :  2    Max.   :38.700   Max.   :148.79   Max.   :65.82  \n",
       " (Other)      :264                                                     \n",
       " min.long.hoja max.long.hoja min.long.peciolo max.long.peciolo min.long.lamina \n",
       "        :252          :252          :245      Min.   :  0.20   Min.   :  1.50  \n",
       " 5      :  3   10     :  4   1      :  5      1st Qu.:  1.20   1st Qu.:  4.00  \n",
       " 1.8    :  2   25     :  2   0.3    :  3      Median :  2.10   Median :  6.00  \n",
       " 10     :  2   26     :  2   0.4    :  3      Mean   : 16.81   Mean   : 15.69  \n",
       " 2.5    :  2   11     :  1   0.5    :  3      3rd Qu.:  4.80   3rd Qu.:  6.50  \n",
       " 3.5    :  2   12     :  1   2      :  3      Max.   :250.00   Max.   :150.00  \n",
       " (Other): 16   (Other): 17   (Other): 17      NA's   :242      NA's   :254     \n",
       " max.long.lamina  min.ancho.hoja max.ancho.hoja     tipo.hoja  \n",
       " Min.   :  2.50          :236           :235             :220  \n",
       " 1st Qu.: 10.88   1.5    :  5    5      :  4    compuesta:  9  \n",
       " Median : 14.50   2      :  5    6      :  4    Compuesta: 13  \n",
       " Mean   : 27.50   5      :  5    8      :  4    simple   : 22  \n",
       " 3rd Qu.: 21.00   3      :  3    -      :  2    Simple   : 14  \n",
       " Max.   :200.00   4      :  3    1.4    :  2    Simples  :  1  \n",
       " NA's   :253      (Other): 22    (Other): 28                   \n",
       "   species         \n",
       " Length:279        \n",
       " Class :character  \n",
       " Mode  :character  \n",
       "                   \n",
       "                   \n",
       "                   \n",
       "                   "
      ]
     },
     "metadata": {},
     "output_type": "display_data"
    }
   ],
   "source": [
    "summary(datos.50.a.150um)"
   ]
  },
  {
   "cell_type": "markdown",
   "metadata": {},
   "source": [
    "20. Calcula la media de la variable tamaño basal de los vasos para las diferentes familias de plantas."
   ]
  },
  {
   "cell_type": "code",
   "execution_count": 53,
   "metadata": {},
   "outputs": [
    {
     "data": {
      "text/html": [
       "<table>\n",
       "<caption>A data.frame: 175 × 2</caption>\n",
       "<thead>\n",
       "\t<tr><th scope=col>Group.1</th><th scope=col>x</th></tr>\n",
       "\t<tr><th scope=col>&lt;fct&gt;</th><th scope=col>&lt;dbl&gt;</th></tr>\n",
       "</thead>\n",
       "<tbody>\n",
       "\t<tr><td>Acanthaceae       </td><td> 21.64000</td></tr>\n",
       "\t<tr><td>Achariaceae       </td><td> 76.14000</td></tr>\n",
       "\t<tr><td>Achatocarpaceae   </td><td> 35.23000</td></tr>\n",
       "\t<tr><td>Actinidiaceae     </td><td>152.45000</td></tr>\n",
       "\t<tr><td>Adoxaceae         </td><td> 51.72111</td></tr>\n",
       "\t<tr><td>Aextoxicaceae     </td><td> 40.18000</td></tr>\n",
       "\t<tr><td>Aizoaceae         </td><td> 23.42000</td></tr>\n",
       "\t<tr><td>Akaniaceae        </td><td> 72.16000</td></tr>\n",
       "\t<tr><td>Alseuosmiaceae    </td><td> 32.28000</td></tr>\n",
       "\t<tr><td>Altingiaceae      </td><td> 56.86000</td></tr>\n",
       "\t<tr><td>Amaranthaceae     </td><td> 32.83750</td></tr>\n",
       "\t<tr><td>Anacardiaceae     </td><td> 75.87429</td></tr>\n",
       "\t<tr><td>Annonaceae        </td><td> 64.22500</td></tr>\n",
       "\t<tr><td>Aphanopetalaceae  </td><td> 32.17000</td></tr>\n",
       "\t<tr><td>Apocynaceae       </td><td> 57.19455</td></tr>\n",
       "\t<tr><td>Aquifoliaceae     </td><td> 39.45000</td></tr>\n",
       "\t<tr><td>Araceae           </td><td> 44.93000</td></tr>\n",
       "\t<tr><td>Araliaceae        </td><td> 85.44750</td></tr>\n",
       "\t<tr><td>Arecaceae         </td><td>104.41000</td></tr>\n",
       "\t<tr><td>Argophyllaceae    </td><td> 47.81250</td></tr>\n",
       "\t<tr><td>Aristolochiaceae  </td><td> 49.15500</td></tr>\n",
       "\t<tr><td>Asparagaceae      </td><td> 53.69500</td></tr>\n",
       "\t<tr><td>Asteraceae        </td><td> 31.22000</td></tr>\n",
       "\t<tr><td>Atherospermataceae</td><td> 53.00333</td></tr>\n",
       "\t<tr><td>Austrobaileyaceae </td><td>136.84000</td></tr>\n",
       "\t<tr><td>Balanopaceae      </td><td> 32.74000</td></tr>\n",
       "\t<tr><td>Basellaceae       </td><td>114.64000</td></tr>\n",
       "\t<tr><td>Bataceae          </td><td> 31.25000</td></tr>\n",
       "\t<tr><td>Berberidaceae     </td><td> 18.44167</td></tr>\n",
       "\t<tr><td>Berberidopsidaceae</td><td>113.01500</td></tr>\n",
       "\t<tr><td>⋮</td><td>⋮</td></tr>\n",
       "\t<tr><td>Sabiaceae        </td><td> 99.72500</td></tr>\n",
       "\t<tr><td>Salicaceae       </td><td> 46.23250</td></tr>\n",
       "\t<tr><td>Santalaceae      </td><td> 26.03500</td></tr>\n",
       "\t<tr><td>Sapindaceae      </td><td> 61.24333</td></tr>\n",
       "\t<tr><td>Sapotaceae       </td><td> 78.16500</td></tr>\n",
       "\t<tr><td>Schisandraceae   </td><td> 38.57000</td></tr>\n",
       "\t<tr><td>Scrophulariaceae </td><td> 23.38000</td></tr>\n",
       "\t<tr><td>Simaroubaceae    </td><td> 42.81000</td></tr>\n",
       "\t<tr><td>Simmondsiaceae   </td><td> 26.15000</td></tr>\n",
       "\t<tr><td>Siparunaceae     </td><td> 57.75500</td></tr>\n",
       "\t<tr><td>Smilacaceae      </td><td> 71.96000</td></tr>\n",
       "\t<tr><td>Solanaceae       </td><td> 31.78000</td></tr>\n",
       "\t<tr><td>Staphyleaceae    </td><td> 99.37000</td></tr>\n",
       "\t<tr><td>Stemonuraceae    </td><td>101.53000</td></tr>\n",
       "\t<tr><td>Strasburgeriaceae</td><td> 81.89000</td></tr>\n",
       "\t<tr><td>Strelitziaceae   </td><td>112.73000</td></tr>\n",
       "\t<tr><td>Stylidiaceae     </td><td> 15.20000</td></tr>\n",
       "\t<tr><td>Styracaceae      </td><td> 99.45000</td></tr>\n",
       "\t<tr><td>Symplocaceae     </td><td> 57.94500</td></tr>\n",
       "\t<tr><td>Tamaricaceae     </td><td>105.29000</td></tr>\n",
       "\t<tr><td>Tetracarpaeaceae </td><td> 14.10000</td></tr>\n",
       "\t<tr><td>Thymelaeaceae    </td><td> 23.23000</td></tr>\n",
       "\t<tr><td>Trimeniaceae     </td><td> 84.53000</td></tr>\n",
       "\t<tr><td>Ulmaceae         </td><td>103.04333</td></tr>\n",
       "\t<tr><td>Urticaceae       </td><td>157.27000</td></tr>\n",
       "\t<tr><td>Verbenaceae      </td><td> 51.45250</td></tr>\n",
       "\t<tr><td>Violaceae        </td><td> 37.74500</td></tr>\n",
       "\t<tr><td>Vitaceae         </td><td>172.40750</td></tr>\n",
       "\t<tr><td>Vochysiaceae     </td><td>102.42000</td></tr>\n",
       "\t<tr><td>Zygophyllaceae   </td><td> 43.05400</td></tr>\n",
       "</tbody>\n",
       "</table>\n"
      ],
      "text/latex": [
       "A data.frame: 175 × 2\n",
       "\\begin{tabular}{ll}\n",
       " Group.1 & x\\\\\n",
       " <fct> & <dbl>\\\\\n",
       "\\hline\n",
       "\t Acanthaceae        &  21.64000\\\\\n",
       "\t Achariaceae        &  76.14000\\\\\n",
       "\t Achatocarpaceae    &  35.23000\\\\\n",
       "\t Actinidiaceae      & 152.45000\\\\\n",
       "\t Adoxaceae          &  51.72111\\\\\n",
       "\t Aextoxicaceae      &  40.18000\\\\\n",
       "\t Aizoaceae          &  23.42000\\\\\n",
       "\t Akaniaceae         &  72.16000\\\\\n",
       "\t Alseuosmiaceae     &  32.28000\\\\\n",
       "\t Altingiaceae       &  56.86000\\\\\n",
       "\t Amaranthaceae      &  32.83750\\\\\n",
       "\t Anacardiaceae      &  75.87429\\\\\n",
       "\t Annonaceae         &  64.22500\\\\\n",
       "\t Aphanopetalaceae   &  32.17000\\\\\n",
       "\t Apocynaceae        &  57.19455\\\\\n",
       "\t Aquifoliaceae      &  39.45000\\\\\n",
       "\t Araceae            &  44.93000\\\\\n",
       "\t Araliaceae         &  85.44750\\\\\n",
       "\t Arecaceae          & 104.41000\\\\\n",
       "\t Argophyllaceae     &  47.81250\\\\\n",
       "\t Aristolochiaceae   &  49.15500\\\\\n",
       "\t Asparagaceae       &  53.69500\\\\\n",
       "\t Asteraceae         &  31.22000\\\\\n",
       "\t Atherospermataceae &  53.00333\\\\\n",
       "\t Austrobaileyaceae  & 136.84000\\\\\n",
       "\t Balanopaceae       &  32.74000\\\\\n",
       "\t Basellaceae        & 114.64000\\\\\n",
       "\t Bataceae           &  31.25000\\\\\n",
       "\t Berberidaceae      &  18.44167\\\\\n",
       "\t Berberidopsidaceae & 113.01500\\\\\n",
       "\t ⋮ & ⋮\\\\\n",
       "\t Sabiaceae         &  99.72500\\\\\n",
       "\t Salicaceae        &  46.23250\\\\\n",
       "\t Santalaceae       &  26.03500\\\\\n",
       "\t Sapindaceae       &  61.24333\\\\\n",
       "\t Sapotaceae        &  78.16500\\\\\n",
       "\t Schisandraceae    &  38.57000\\\\\n",
       "\t Scrophulariaceae  &  23.38000\\\\\n",
       "\t Simaroubaceae     &  42.81000\\\\\n",
       "\t Simmondsiaceae    &  26.15000\\\\\n",
       "\t Siparunaceae      &  57.75500\\\\\n",
       "\t Smilacaceae       &  71.96000\\\\\n",
       "\t Solanaceae        &  31.78000\\\\\n",
       "\t Staphyleaceae     &  99.37000\\\\\n",
       "\t Stemonuraceae     & 101.53000\\\\\n",
       "\t Strasburgeriaceae &  81.89000\\\\\n",
       "\t Strelitziaceae    & 112.73000\\\\\n",
       "\t Stylidiaceae      &  15.20000\\\\\n",
       "\t Styracaceae       &  99.45000\\\\\n",
       "\t Symplocaceae      &  57.94500\\\\\n",
       "\t Tamaricaceae      & 105.29000\\\\\n",
       "\t Tetracarpaeaceae  &  14.10000\\\\\n",
       "\t Thymelaeaceae     &  23.23000\\\\\n",
       "\t Trimeniaceae      &  84.53000\\\\\n",
       "\t Ulmaceae          & 103.04333\\\\\n",
       "\t Urticaceae        & 157.27000\\\\\n",
       "\t Verbenaceae       &  51.45250\\\\\n",
       "\t Violaceae         &  37.74500\\\\\n",
       "\t Vitaceae          & 172.40750\\\\\n",
       "\t Vochysiaceae      & 102.42000\\\\\n",
       "\t Zygophyllaceae    &  43.05400\\\\\n",
       "\\end{tabular}\n"
      ],
      "text/markdown": [
       "\n",
       "A data.frame: 175 × 2\n",
       "\n",
       "| Group.1 &lt;fct&gt; | x &lt;dbl&gt; |\n",
       "|---|---|\n",
       "| Acanthaceae        |  21.64000 |\n",
       "| Achariaceae        |  76.14000 |\n",
       "| Achatocarpaceae    |  35.23000 |\n",
       "| Actinidiaceae      | 152.45000 |\n",
       "| Adoxaceae          |  51.72111 |\n",
       "| Aextoxicaceae      |  40.18000 |\n",
       "| Aizoaceae          |  23.42000 |\n",
       "| Akaniaceae         |  72.16000 |\n",
       "| Alseuosmiaceae     |  32.28000 |\n",
       "| Altingiaceae       |  56.86000 |\n",
       "| Amaranthaceae      |  32.83750 |\n",
       "| Anacardiaceae      |  75.87429 |\n",
       "| Annonaceae         |  64.22500 |\n",
       "| Aphanopetalaceae   |  32.17000 |\n",
       "| Apocynaceae        |  57.19455 |\n",
       "| Aquifoliaceae      |  39.45000 |\n",
       "| Araceae            |  44.93000 |\n",
       "| Araliaceae         |  85.44750 |\n",
       "| Arecaceae          | 104.41000 |\n",
       "| Argophyllaceae     |  47.81250 |\n",
       "| Aristolochiaceae   |  49.15500 |\n",
       "| Asparagaceae       |  53.69500 |\n",
       "| Asteraceae         |  31.22000 |\n",
       "| Atherospermataceae |  53.00333 |\n",
       "| Austrobaileyaceae  | 136.84000 |\n",
       "| Balanopaceae       |  32.74000 |\n",
       "| Basellaceae        | 114.64000 |\n",
       "| Bataceae           |  31.25000 |\n",
       "| Berberidaceae      |  18.44167 |\n",
       "| Berberidopsidaceae | 113.01500 |\n",
       "| ⋮ | ⋮ |\n",
       "| Sabiaceae         |  99.72500 |\n",
       "| Salicaceae        |  46.23250 |\n",
       "| Santalaceae       |  26.03500 |\n",
       "| Sapindaceae       |  61.24333 |\n",
       "| Sapotaceae        |  78.16500 |\n",
       "| Schisandraceae    |  38.57000 |\n",
       "| Scrophulariaceae  |  23.38000 |\n",
       "| Simaroubaceae     |  42.81000 |\n",
       "| Simmondsiaceae    |  26.15000 |\n",
       "| Siparunaceae      |  57.75500 |\n",
       "| Smilacaceae       |  71.96000 |\n",
       "| Solanaceae        |  31.78000 |\n",
       "| Staphyleaceae     |  99.37000 |\n",
       "| Stemonuraceae     | 101.53000 |\n",
       "| Strasburgeriaceae |  81.89000 |\n",
       "| Strelitziaceae    | 112.73000 |\n",
       "| Stylidiaceae      |  15.20000 |\n",
       "| Styracaceae       |  99.45000 |\n",
       "| Symplocaceae      |  57.94500 |\n",
       "| Tamaricaceae      | 105.29000 |\n",
       "| Tetracarpaeaceae  |  14.10000 |\n",
       "| Thymelaeaceae     |  23.23000 |\n",
       "| Trimeniaceae      |  84.53000 |\n",
       "| Ulmaceae          | 103.04333 |\n",
       "| Urticaceae        | 157.27000 |\n",
       "| Verbenaceae       |  51.45250 |\n",
       "| Violaceae         |  37.74500 |\n",
       "| Vitaceae          | 172.40750 |\n",
       "| Vochysiaceae      | 102.42000 |\n",
       "| Zygophyllaceae    |  43.05400 |\n",
       "\n"
      ],
      "text/plain": [
       "    Group.1            x        \n",
       "1   Acanthaceae         21.64000\n",
       "2   Achariaceae         76.14000\n",
       "3   Achatocarpaceae     35.23000\n",
       "4   Actinidiaceae      152.45000\n",
       "5   Adoxaceae           51.72111\n",
       "6   Aextoxicaceae       40.18000\n",
       "7   Aizoaceae           23.42000\n",
       "8   Akaniaceae          72.16000\n",
       "9   Alseuosmiaceae      32.28000\n",
       "10  Altingiaceae        56.86000\n",
       "11  Amaranthaceae       32.83750\n",
       "12  Anacardiaceae       75.87429\n",
       "13  Annonaceae          64.22500\n",
       "14  Aphanopetalaceae    32.17000\n",
       "15  Apocynaceae         57.19455\n",
       "16  Aquifoliaceae       39.45000\n",
       "17  Araceae             44.93000\n",
       "18  Araliaceae          85.44750\n",
       "19  Arecaceae          104.41000\n",
       "20  Argophyllaceae      47.81250\n",
       "21  Aristolochiaceae    49.15500\n",
       "22  Asparagaceae        53.69500\n",
       "23  Asteraceae          31.22000\n",
       "24  Atherospermataceae  53.00333\n",
       "25  Austrobaileyaceae  136.84000\n",
       "26  Balanopaceae        32.74000\n",
       "27  Basellaceae        114.64000\n",
       "28  Bataceae            31.25000\n",
       "29  Berberidaceae       18.44167\n",
       "30  Berberidopsidaceae 113.01500\n",
       "⋮   ⋮                  ⋮        \n",
       "146 Sabiaceae           99.72500\n",
       "147 Salicaceae          46.23250\n",
       "148 Santalaceae         26.03500\n",
       "149 Sapindaceae         61.24333\n",
       "150 Sapotaceae          78.16500\n",
       "151 Schisandraceae      38.57000\n",
       "152 Scrophulariaceae    23.38000\n",
       "153 Simaroubaceae       42.81000\n",
       "154 Simmondsiaceae      26.15000\n",
       "155 Siparunaceae        57.75500\n",
       "156 Smilacaceae         71.96000\n",
       "157 Solanaceae          31.78000\n",
       "158 Staphyleaceae       99.37000\n",
       "159 Stemonuraceae      101.53000\n",
       "160 Strasburgeriaceae   81.89000\n",
       "161 Strelitziaceae     112.73000\n",
       "162 Stylidiaceae        15.20000\n",
       "163 Styracaceae         99.45000\n",
       "164 Symplocaceae        57.94500\n",
       "165 Tamaricaceae       105.29000\n",
       "166 Tetracarpaeaceae    14.10000\n",
       "167 Thymelaeaceae       23.23000\n",
       "168 Trimeniaceae        84.53000\n",
       "169 Ulmaceae           103.04333\n",
       "170 Urticaceae         157.27000\n",
       "171 Verbenaceae         51.45250\n",
       "172 Violaceae           37.74500\n",
       "173 Vitaceae           172.40750\n",
       "174 Vochysiaceae       102.42000\n",
       "175 Zygophyllaceae      43.05400"
      ]
     },
     "metadata": {},
     "output_type": "display_data"
    }
   ],
   "source": [
    "aggregate(datos$VD.base.um, by=list(datos$family), mean, na.rm=TRUE)"
   ]
  }
 ],
 "metadata": {
  "kernelspec": {
   "display_name": "R",
   "language": "R",
   "name": "ir"
  },
  "language_info": {
   "codemirror_mode": "r",
   "file_extension": ".r",
   "mimetype": "text/x-r-source",
   "name": "R",
   "pygments_lexer": "r",
   "version": "3.6.3"
  }
 },
 "nbformat": 4,
 "nbformat_minor": 4
}
